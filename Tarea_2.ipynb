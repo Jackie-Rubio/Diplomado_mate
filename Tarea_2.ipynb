{
  "nbformat": 4,
  "nbformat_minor": 0,
  "metadata": {
    "colab": {
      "provenance": [],
      "include_colab_link": true
    },
    "kernelspec": {
      "name": "ir",
      "display_name": "R"
    },
    "language_info": {
      "name": "R"
    }
  },
  "cells": [
    {
      "cell_type": "markdown",
      "metadata": {
        "id": "view-in-github",
        "colab_type": "text"
      },
      "source": [
        "<a href=\"https://colab.research.google.com/github/Jackie-Rubio/Diplomado_mate/blob/main/Tarea_2.ipynb\" target=\"_parent\"><img src=\"https://colab.research.google.com/assets/colab-badge.svg\" alt=\"Open In Colab\"/></a>"
      ]
    },
    {
      "cell_type": "markdown",
      "source": [
        "# **Tarea 2**"
      ],
      "metadata": {
        "id": "1t_D1VEH9m_x"
      }
    },
    {
      "cell_type": "markdown",
      "source": [
        "##*Ejercicios del libro de R*- Capítulos 5 y 7\n",
        ">*Capítulo 5:"
      ],
      "metadata": {
        "id": "uiqlPP-yi-Op"
      }
    },
    {
      "cell_type": "markdown",
      "source": [
        "1. ¿Qué cantidad de dinero sobra al repartir $10000 entre 3 personas?"
      ],
      "metadata": {
        "id": "Y4GJm_6A9vje"
      }
    },
    {
      "cell_type": "code",
      "execution_count": 6,
      "metadata": {
        "colab": {
          "base_uri": "https://localhost:8080/"
        },
        "id": "iT8lg1zb9d_D",
        "outputId": "430befb0-fba3-4b67-f891-fe9cc65491c6"
      },
      "outputs": [
        {
          "output_type": "stream",
          "name": "stdout",
          "text": [
            "[1] \"Sobran : $1\"\n"
          ]
        }
      ],
      "source": [
        "cambio<-10000%%3\n",
        "print(paste0(\"Sobran : $\", cambio))"
      ]
    },
    {
      "cell_type": "markdown",
      "source": [
        "2. ¿Es el número 4560 divisible por 3?"
      ],
      "metadata": {
        "id": "CmcwqS5699vK"
      }
    },
    {
      "cell_type": "code",
      "source": [
        "divi<- 4560%%3==0\n",
        "ifelse(divi, 'Si es divisible por 3', 'No es divisible por 3')"
      ],
      "metadata": {
        "colab": {
          "base_uri": "https://localhost:8080/",
          "height": 34
        },
        "id": "OJdLBLsL-CiF",
        "outputId": "4bbab94d-a279-46b8-f059-c6feff75abb6"
      },
      "execution_count": 8,
      "outputs": [
        {
          "output_type": "display_data",
          "data": {
            "text/html": [
              "'Si es divisible por 3'"
            ],
            "text/markdown": "'Si es divisible por 3'",
            "text/latex": "'Si es divisible por 3'",
            "text/plain": [
              "[1] \"Si es divisible por 3\""
            ]
          },
          "metadata": {}
        }
      ]
    },
    {
      "cell_type": "markdown",
      "source": [
        "3. Construya un vector con los números enteros del 2 al 87. ¿Cuáles de esos números son divisibles por 7?"
      ],
      "metadata": {
        "id": "BwlcOIBc-JAI"
      }
    },
    {
      "cell_type": "code",
      "source": [
        "Vector <- c(2:87)\n",
        "numDivisi <- c(ifelse(Vector %% 7 == 0, Vector, '' ))\n",
        "numDivisi[numDivisi == Vector]"
      ],
      "metadata": {
        "colab": {
          "base_uri": "https://localhost:8080/",
          "height": 34
        },
        "id": "asVzog7I-Qmm",
        "outputId": "4e080222-6663-4976-e7e4-c4b5cc7611c2"
      },
      "execution_count": 16,
      "outputs": [
        {
          "output_type": "display_data",
          "data": {
            "text/html": [
              "<style>\n",
              ".list-inline {list-style: none; margin:0; padding: 0}\n",
              ".list-inline>li {display: inline-block}\n",
              ".list-inline>li:not(:last-child)::after {content: \"\\00b7\"; padding: 0 .5ex}\n",
              "</style>\n",
              "<ol class=list-inline><li>'7'</li><li>'14'</li><li>'21'</li><li>'28'</li><li>'35'</li><li>'42'</li><li>'49'</li><li>'56'</li><li>'63'</li><li>'70'</li><li>'77'</li><li>'84'</li></ol>\n"
            ],
            "text/markdown": "1. '7'\n2. '14'\n3. '21'\n4. '28'\n5. '35'\n6. '42'\n7. '49'\n8. '56'\n9. '63'\n10. '70'\n11. '77'\n12. '84'\n\n\n",
            "text/latex": "\\begin{enumerate*}\n\\item '7'\n\\item '14'\n\\item '21'\n\\item '28'\n\\item '35'\n\\item '42'\n\\item '49'\n\\item '56'\n\\item '63'\n\\item '70'\n\\item '77'\n\\item '84'\n\\end{enumerate*}\n",
            "text/plain": [
              " [1] \"7\"  \"14\" \"21\" \"28\" \"35\" \"42\" \"49\" \"56\" \"63\" \"70\" \"77\" \"84\""
            ]
          },
          "metadata": {}
        }
      ]
    },
    {
      "cell_type": "markdown",
      "source": [
        "4. Construya dos vectores, el primero con los números enteros desde 7 hasta 3, el segundo vector con los primeros cinco números positivos divisibles por 5. Sea A la condición de ser par en el primer vector. Sea B la condición de ser mayor que 10 en el segundo vector. ¿En cuál de las 5 posiciones se cumple A y B simultáneamente?"
      ],
      "metadata": {
        "id": "LGuY4FC_-bNe"
      }
    },
    {
      "cell_type": "code",
      "source": [
        "PrimVector <- c(7:3)\n",
        "cont <- 0 #cuenta los números en el segundo vector (SecondVector)\n",
        "NumDiv5 <- 1 #cuenta los números divisibles por 5\n",
        "Vectortemp <- NULL #vector vacío que almacena los datos\n",
        "while (NumDiv5 < 6){\n",
        "  cont <- cont + 1\n",
        "  Vectortemp[NumDiv5] <- cont\n",
        "  if(cont %% 5 == 0){\n",
        "    NumDiv5 <- NumDiv5 + 1\n",
        "  }\n",
        "}\n",
        "SecondVector <- c(Vectortemp)\n",
        "\n",
        "condiciones <- c(ifelse(PrimVector %% 2 == 0 & SecondVector > 10 , rank(-PrimVector) , ''))\n",
        "print(paste0('Ambas condiciones se cumplen en la posición ', condiciones[condiciones ==rank(-PrimVector)]))"
      ],
      "metadata": {
        "colab": {
          "base_uri": "https://localhost:8080/"
        },
        "id": "4dbOPYgT-eur",
        "outputId": "79c59d6e-1d51-42aa-c820-b1582a562d0e"
      },
      "execution_count": 19,
      "outputs": [
        {
          "output_type": "stream",
          "name": "stdout",
          "text": [
            "[1] \"Ambas condiciones se cumplen en la posición 4\"\n"
          ]
        }
      ]
    },
    {
      "cell_type": "markdown",
      "source": [
        "5. Consulte este enlace en el cual hay una anéctoda de Gauss niño. Use R para obtener el resultado de la suma solicitada por el profesor del niño Gauss."
      ],
      "metadata": {
        "id": "LE0cnLSl-4zp"
      }
    },
    {
      "cell_type": "code",
      "source": [
        "GaussSuma <- sum(1:100)\n",
        "GaussSuma"
      ],
      "metadata": {
        "colab": {
          "base_uri": "https://localhost:8080/",
          "height": 34
        },
        "id": "fJyhDdYx--cO",
        "outputId": "cc9a6079-7ab4-4f02-aa2d-c73803a609e9"
      },
      "execution_count": 21,
      "outputs": [
        {
          "output_type": "display_data",
          "data": {
            "text/html": [
              "5050"
            ],
            "text/markdown": "5050",
            "text/latex": "5050",
            "text/plain": [
              "[1] 5050"
            ]
          },
          "metadata": {}
        }
      ]
    },
    {
      "cell_type": "markdown",
      "source": [
        "6. Construya un vector con los siguientes elementos: 1, -4, 5, 9, -4. Escriba un procedimiento para extraer las posiciones donde está el valor mínimo en el vector."
      ],
      "metadata": {
        "id": "GDEfTKVn_Brj"
      }
    },
    {
      "cell_type": "code",
      "source": [
        "Vect<- c(1, -4, 5, 9, -4)\n",
        "which(Vect == min(Vect)) #Nos da todas las posiciones donde aparece el valor mínimo\n"
      ],
      "metadata": {
        "colab": {
          "base_uri": "https://localhost:8080/",
          "height": 34
        },
        "id": "YqkMVlO7_H5B",
        "outputId": "0512de96-885a-46de-93de-9067e5732444"
      },
      "execution_count": 29,
      "outputs": [
        {
          "output_type": "display_data",
          "data": {
            "text/html": [
              "<style>\n",
              ".list-inline {list-style: none; margin:0; padding: 0}\n",
              ".list-inline>li {display: inline-block}\n",
              ".list-inline>li:not(:last-child)::after {content: \"\\00b7\"; padding: 0 .5ex}\n",
              "</style>\n",
              "<ol class=list-inline><li>2</li><li>5</li></ol>\n"
            ],
            "text/markdown": "1. 2\n2. 5\n\n\n",
            "text/latex": "\\begin{enumerate*}\n\\item 2\n\\item 5\n\\end{enumerate*}\n",
            "text/plain": [
              "[1] 2 5"
            ]
          },
          "metadata": {}
        }
      ]
    },
    {
      "cell_type": "markdown",
      "source": [
        "7. Calcular 8!"
      ],
      "metadata": {
        "id": "JJPDM1qC_Osi"
      }
    },
    {
      "cell_type": "code",
      "source": [
        "factorial(8)"
      ],
      "metadata": {
        "colab": {
          "base_uri": "https://localhost:8080/",
          "height": 34
        },
        "id": "3EoH6ccE_SQb",
        "outputId": "6dd548c7-bdf6-4fe1-acd8-4aee9496e9c7"
      },
      "execution_count": 31,
      "outputs": [
        {
          "output_type": "display_data",
          "data": {
            "text/html": [
              "40320"
            ],
            "text/markdown": "40320",
            "text/latex": "40320",
            "text/plain": [
              "[1] 40320"
            ]
          },
          "metadata": {}
        }
      ]
    },
    {
      "cell_type": "markdown",
      "source": [
        "8. Evaluar la suma ![ej 7.png](data:image/png;base64,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)"
      ],
      "metadata": {
        "id": "PJeH-6HX_YEH"
      }
    },
    {
      "cell_type": "code",
      "source": [
        "x_i <- 0  #\n",
        "for(i in 3:7){\n",
        "  x_i <- x_i + exp(i)\n",
        "}\n",
        "x_i"
      ],
      "metadata": {
        "colab": {
          "base_uri": "https://localhost:8080/",
          "height": 34
        },
        "id": "e8TX02q_AVNO",
        "outputId": "b9e86c7c-2850-487e-8b54-4ca0f045c001"
      },
      "execution_count": 32,
      "outputs": [
        {
          "output_type": "display_data",
          "data": {
            "text/html": [
              "1723.1587979801"
            ],
            "text/markdown": "1723.1587979801",
            "text/latex": "1723.1587979801",
            "text/plain": [
              "[1] 1723.159"
            ]
          },
          "metadata": {}
        }
      ]
    },
    {
      "cell_type": "markdown",
      "source": [
        "9. Evaluar la siguiente productoria: ![cap 5 ej 9.png](data:image/png;base64,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)"
      ],
      "metadata": {
        "id": "ILaGNbQD_YCi"
      }
    },
    {
      "cell_type": "code",
      "source": [
        "x_j <- 1\n",
        "for(j in 1:10){\n",
        "  x_j <- x_j*log(sqrt(j))\n",
        "}\n",
        "x_j"
      ],
      "metadata": {
        "colab": {
          "base_uri": "https://localhost:8080/",
          "height": 34
        },
        "id": "qOa5YjvbBNIX",
        "outputId": "602aacef-3511-4d76-af02-deb3e23575d8"
      },
      "execution_count": 33,
      "outputs": [
        {
          "output_type": "display_data",
          "data": {
            "text/html": [
              "0"
            ],
            "text/markdown": "0",
            "text/latex": "0",
            "text/plain": [
              "[1] 0"
            ]
          },
          "metadata": {}
        }
      ]
    },
    {
      "cell_type": "markdown",
      "source": [
        "10. Construya un vector cualquiera e inviertalo, es decir, que el primer elemento quede de último, el segundo de penúltimo y así sucesivamente. Compare su resultado con el de la función rev."
      ],
      "metadata": {
        "id": "ugEDnGcDBR9F"
      }
    },
    {
      "cell_type": "code",
      "source": [
        "myvec <- c(10, 9, 8, 7, 6, 5, 4, 3, 2, 1)\n",
        "longitud <- length(myvec)\n",
        "longitud2 <- length(myvec)\n",
        "cont2<- 1 #contador\n",
        "vec2 <- NULL #Vector vacío para almacenar\n",
        "while (cont2 < longitud + 1){\n",
        "  vec2[cont2]<- myvec[longitud2]\n",
        "  longitud2 <- longitud2 - 1\n",
        "  cont2 <- cont2 +1\n",
        "}\n",
        "newvec <- c(vec2)\n",
        "newvec"
      ],
      "metadata": {
        "colab": {
          "base_uri": "https://localhost:8080/",
          "height": 34
        },
        "id": "64k--7Y8BVPp",
        "outputId": "f585b043-0763-4e7f-e430-de20369e0462"
      },
      "execution_count": 60,
      "outputs": [
        {
          "output_type": "display_data",
          "data": {
            "text/html": [
              "<style>\n",
              ".list-inline {list-style: none; margin:0; padding: 0}\n",
              ".list-inline>li {display: inline-block}\n",
              ".list-inline>li:not(:last-child)::after {content: \"\\00b7\"; padding: 0 .5ex}\n",
              "</style>\n",
              "<ol class=list-inline><li>1</li><li>2</li><li>3</li><li>4</li><li>5</li><li>6</li><li>7</li><li>8</li><li>9</li><li>10</li></ol>\n"
            ],
            "text/markdown": "1. 1\n2. 2\n3. 3\n4. 4\n5. 5\n6. 6\n7. 7\n8. 8\n9. 9\n10. 10\n\n\n",
            "text/latex": "\\begin{enumerate*}\n\\item 1\n\\item 2\n\\item 3\n\\item 4\n\\item 5\n\\item 6\n\\item 7\n\\item 8\n\\item 9\n\\item 10\n\\end{enumerate*}\n",
            "text/plain": [
              " [1]  1  2  3  4  5  6  7  8  9 10"
            ]
          },
          "metadata": {}
        }
      ]
    },
    {
      "cell_type": "code",
      "source": [
        "rev(myvec)"
      ],
      "metadata": {
        "colab": {
          "base_uri": "https://localhost:8080/",
          "height": 34
        },
        "id": "IE4UXsBVBZ2R",
        "outputId": "0b120d0c-1fc9-426e-a7f2-0bc79b69027e"
      },
      "execution_count": 59,
      "outputs": [
        {
          "output_type": "display_data",
          "data": {
            "text/html": [
              "<style>\n",
              ".list-inline {list-style: none; margin:0; padding: 0}\n",
              ".list-inline>li {display: inline-block}\n",
              ".list-inline>li:not(:last-child)::after {content: \"\\00b7\"; padding: 0 .5ex}\n",
              "</style>\n",
              "<ol class=list-inline><li>1</li><li>2</li><li>3</li><li>4</li><li>5</li><li>6</li><li>7</li><li>8</li><li>9</li><li>10</li></ol>\n"
            ],
            "text/markdown": "1. 1\n2. 2\n3. 3\n4. 4\n5. 5\n6. 6\n7. 7\n8. 8\n9. 9\n10. 10\n\n\n",
            "text/latex": "\\begin{enumerate*}\n\\item 1\n\\item 2\n\\item 3\n\\item 4\n\\item 5\n\\item 6\n\\item 7\n\\item 8\n\\item 9\n\\item 10\n\\end{enumerate*}\n",
            "text/plain": [
              " [1]  1  2  3  4  5  6  7  8  9 10"
            ]
          },
          "metadata": {}
        }
      ]
    },
    {
      "cell_type": "markdown",
      "source": [
        "11. Create the vector:  **1, 2, 3, ..., 19, 20**"
      ],
      "metadata": {
        "id": "YFkOEx_VBdxS"
      }
    },
    {
      "cell_type": "code",
      "source": [
        "vecCreate <- c(1:20)\n",
        "vecCreate"
      ],
      "metadata": {
        "colab": {
          "base_uri": "https://localhost:8080/",
          "height": 34
        },
        "id": "MaRBLMrYBitA",
        "outputId": "711b927d-52ed-4182-8292-233c68597399"
      },
      "execution_count": 62,
      "outputs": [
        {
          "output_type": "display_data",
          "data": {
            "text/html": [
              "<style>\n",
              ".list-inline {list-style: none; margin:0; padding: 0}\n",
              ".list-inline>li {display: inline-block}\n",
              ".list-inline>li:not(:last-child)::after {content: \"\\00b7\"; padding: 0 .5ex}\n",
              "</style>\n",
              "<ol class=list-inline><li>1</li><li>2</li><li>3</li><li>4</li><li>5</li><li>6</li><li>7</li><li>8</li><li>9</li><li>10</li><li>11</li><li>12</li><li>13</li><li>14</li><li>15</li><li>16</li><li>17</li><li>18</li><li>19</li><li>20</li></ol>\n"
            ],
            "text/markdown": "1. 1\n2. 2\n3. 3\n4. 4\n5. 5\n6. 6\n7. 7\n8. 8\n9. 9\n10. 10\n11. 11\n12. 12\n13. 13\n14. 14\n15. 15\n16. 16\n17. 17\n18. 18\n19. 19\n20. 20\n\n\n",
            "text/latex": "\\begin{enumerate*}\n\\item 1\n\\item 2\n\\item 3\n\\item 4\n\\item 5\n\\item 6\n\\item 7\n\\item 8\n\\item 9\n\\item 10\n\\item 11\n\\item 12\n\\item 13\n\\item 14\n\\item 15\n\\item 16\n\\item 17\n\\item 18\n\\item 19\n\\item 20\n\\end{enumerate*}\n",
            "text/plain": [
              " [1]  1  2  3  4  5  6  7  8  9 10 11 12 13 14 15 16 17 18 19 20"
            ]
          },
          "metadata": {}
        }
      ]
    },
    {
      "cell_type": "markdown",
      "source": [
        "12. Create the vector: **20, 19, ..., 2, 1**"
      ],
      "metadata": {
        "id": "b1O-w9N3BnPz"
      }
    },
    {
      "cell_type": "code",
      "source": [
        "vec12 <- c(20:1)\n",
        "vec12"
      ],
      "metadata": {
        "colab": {
          "base_uri": "https://localhost:8080/",
          "height": 34
        },
        "id": "Zrjpv9svBrSB",
        "outputId": "2fcfaa71-d361-40bb-d356-9c1e07dda0b9"
      },
      "execution_count": 63,
      "outputs": [
        {
          "output_type": "display_data",
          "data": {
            "text/html": [
              "<style>\n",
              ".list-inline {list-style: none; margin:0; padding: 0}\n",
              ".list-inline>li {display: inline-block}\n",
              ".list-inline>li:not(:last-child)::after {content: \"\\00b7\"; padding: 0 .5ex}\n",
              "</style>\n",
              "<ol class=list-inline><li>20</li><li>19</li><li>18</li><li>17</li><li>16</li><li>15</li><li>14</li><li>13</li><li>12</li><li>11</li><li>10</li><li>9</li><li>8</li><li>7</li><li>6</li><li>5</li><li>4</li><li>3</li><li>2</li><li>1</li></ol>\n"
            ],
            "text/markdown": "1. 20\n2. 19\n3. 18\n4. 17\n5. 16\n6. 15\n7. 14\n8. 13\n9. 12\n10. 11\n11. 10\n12. 9\n13. 8\n14. 7\n15. 6\n16. 5\n17. 4\n18. 3\n19. 2\n20. 1\n\n\n",
            "text/latex": "\\begin{enumerate*}\n\\item 20\n\\item 19\n\\item 18\n\\item 17\n\\item 16\n\\item 15\n\\item 14\n\\item 13\n\\item 12\n\\item 11\n\\item 10\n\\item 9\n\\item 8\n\\item 7\n\\item 6\n\\item 5\n\\item 4\n\\item 3\n\\item 2\n\\item 1\n\\end{enumerate*}\n",
            "text/plain": [
              " [1] 20 19 18 17 16 15 14 13 12 11 10  9  8  7  6  5  4  3  2  1"
            ]
          },
          "metadata": {}
        }
      ]
    },
    {
      "cell_type": "markdown",
      "source": [
        "13. Create the vector: **1, -2, 3, -4, 5, -6, ..., 19, -20**"
      ],
      "metadata": {
        "id": "FjL2viUSCejO"
      }
    },
    {
      "cell_type": "code",
      "source": [
        "vec13 <- c(1:20)\n",
        "myvec13 <- ifelse(vec13 %% 2 == 0, vec13 * -1, vec13)\n",
        "myvec13"
      ],
      "metadata": {
        "colab": {
          "base_uri": "https://localhost:8080/",
          "height": 34
        },
        "id": "z4Gv_WZ5Cnfv",
        "outputId": "8c5937a6-405f-4e90-c723-398ceaf6ed5a"
      },
      "execution_count": 64,
      "outputs": [
        {
          "output_type": "display_data",
          "data": {
            "text/html": [
              "<style>\n",
              ".list-inline {list-style: none; margin:0; padding: 0}\n",
              ".list-inline>li {display: inline-block}\n",
              ".list-inline>li:not(:last-child)::after {content: \"\\00b7\"; padding: 0 .5ex}\n",
              "</style>\n",
              "<ol class=list-inline><li>1</li><li>-2</li><li>3</li><li>-4</li><li>5</li><li>-6</li><li>7</li><li>-8</li><li>9</li><li>-10</li><li>11</li><li>-12</li><li>13</li><li>-14</li><li>15</li><li>-16</li><li>17</li><li>-18</li><li>19</li><li>-20</li></ol>\n"
            ],
            "text/markdown": "1. 1\n2. -2\n3. 3\n4. -4\n5. 5\n6. -6\n7. 7\n8. -8\n9. 9\n10. -10\n11. 11\n12. -12\n13. 13\n14. -14\n15. 15\n16. -16\n17. 17\n18. -18\n19. 19\n20. -20\n\n\n",
            "text/latex": "\\begin{enumerate*}\n\\item 1\n\\item -2\n\\item 3\n\\item -4\n\\item 5\n\\item -6\n\\item 7\n\\item -8\n\\item 9\n\\item -10\n\\item 11\n\\item -12\n\\item 13\n\\item -14\n\\item 15\n\\item -16\n\\item 17\n\\item -18\n\\item 19\n\\item -20\n\\end{enumerate*}\n",
            "text/plain": [
              " [1]   1  -2   3  -4   5  -6   7  -8   9 -10  11 -12  13 -14  15 -16  17 -18  19\n",
              "[20] -20"
            ]
          },
          "metadata": {}
        }
      ]
    },
    {
      "cell_type": "markdown",
      "source": [
        "14. Create the vector:** 0.1^3, 0.2^1, 0.1^6, 0.2^4, ..., 0.1^36, 02^34**"
      ],
      "metadata": {
        "id": "felsRNm8Ct1Y"
      }
    },
    {
      "cell_type": "code",
      "source": [
        "potencias1 <- seq(from = 3, by = 3, length.out = 12)\n",
        "potencias2<- seq(from =1, by=3, length.out= 12)\n",
        "myvec14 <- c(rbind(0.1^potencias1 , 0.2^potencias2))\n",
        "myvec14"
      ],
      "metadata": {
        "colab": {
          "base_uri": "https://localhost:8080/",
          "height": 69
        },
        "id": "UWlE7nI5C0a8",
        "outputId": "8dcf0338-f301-4353-adf0-ab25da3453f4"
      },
      "execution_count": 82,
      "outputs": [
        {
          "output_type": "display_data",
          "data": {
            "text/html": [
              "<style>\n",
              ".list-inline {list-style: none; margin:0; padding: 0}\n",
              ".list-inline>li {display: inline-block}\n",
              ".list-inline>li:not(:last-child)::after {content: \"\\00b7\"; padding: 0 .5ex}\n",
              "</style>\n",
              "<ol class=list-inline><li>0.001</li><li>0.2</li><li>1e-06</li><li>0.0016</li><li>1e-09</li><li>1.28e-05</li><li>1e-12</li><li>1.024e-07</li><li>1e-15</li><li>8.19200000000001e-10</li><li>1e-18</li><li>6.55360000000001e-12</li><li>1e-21</li><li>5.24288000000001e-14</li><li>1e-24</li><li>4.19430400000001e-16</li><li>1e-27</li><li>3.3554432e-18</li><li>1e-30</li><li>2.68435456e-20</li><li>1e-33</li><li>2.147483648e-22</li><li>1e-36</li><li>1.7179869184e-24</li></ol>\n"
            ],
            "text/markdown": "1. 0.001\n2. 0.2\n3. 1e-06\n4. 0.0016\n5. 1e-09\n6. 1.28e-05\n7. 1e-12\n8. 1.024e-07\n9. 1e-15\n10. 8.19200000000001e-10\n11. 1e-18\n12. 6.55360000000001e-12\n13. 1e-21\n14. 5.24288000000001e-14\n15. 1e-24\n16. 4.19430400000001e-16\n17. 1e-27\n18. 3.3554432e-18\n19. 1e-30\n20. 2.68435456e-20\n21. 1e-33\n22. 2.147483648e-22\n23. 1e-36\n24. 1.7179869184e-24\n\n\n",
            "text/latex": "\\begin{enumerate*}\n\\item 0.001\n\\item 0.2\n\\item 1e-06\n\\item 0.0016\n\\item 1e-09\n\\item 1.28e-05\n\\item 1e-12\n\\item 1.024e-07\n\\item 1e-15\n\\item 8.19200000000001e-10\n\\item 1e-18\n\\item 6.55360000000001e-12\n\\item 1e-21\n\\item 5.24288000000001e-14\n\\item 1e-24\n\\item 4.19430400000001e-16\n\\item 1e-27\n\\item 3.3554432e-18\n\\item 1e-30\n\\item 2.68435456e-20\n\\item 1e-33\n\\item 2.147483648e-22\n\\item 1e-36\n\\item 1.7179869184e-24\n\\end{enumerate*}\n",
            "text/plain": [
              " [1] 1.000000e-03 2.000000e-01 1.000000e-06 1.600000e-03 1.000000e-09\n",
              " [6] 1.280000e-05 1.000000e-12 1.024000e-07 1.000000e-15 8.192000e-10\n",
              "[11] 1.000000e-18 6.553600e-12 1.000000e-21 5.242880e-14 1.000000e-24\n",
              "[16] 4.194304e-16 1.000000e-27 3.355443e-18 1.000000e-30 2.684355e-20\n",
              "[21] 1.000000e-33 2.147484e-22 1.000000e-36 1.717987e-24"
            ]
          },
          "metadata": {}
        }
      ]
    },
    {
      "cell_type": "markdown",
      "source": [
        "15. Calcule lo siguiente: ![cap 5 ej 15.png](data:image/png;base64,iVBORw0KGgoAAAANSUhEUgAAASsAAAAwCAYAAABJwlxYAAAAAXNSR0IArs4c6QAAAARnQU1BAACxjwv8YQUAAAAJcEhZcwAADsMAAA7DAcdvqGQAABZ0SURBVHhe7Z0PTFvXvce/e5mMXjRPkYzyNKNW8RbNUZ7iZgKrCk6qwLJAMhUyFdINXN5wMpVQDcgUICp/pBiixmQFHAmSpwRHAzM1EK04VQtRE2dLMWpipBRXjfCUYdQ+Wy95thrhNptR0Hnn3HtJ+GNjX2OCae5Hutj3j8295/7u7/z+nWOQpCNEbpv3koq/eIX1JCN0m7TtqyADXwrryYZ3gJS91kZuTwnrq0KS38Ml8NrKSIH5Npl6LGyQSBq+x/5AQkJCIsn5N+FVQkJCIqmRlJWEhMSaQFJWEhISawJJWUlIrDCBkXZUnnYgIKx/5wk40FLRDkeCL1hSVhISK8j0Z+0oawX0ZToohG3feRQ6VBmA9tJ2OB8J2xKApKwkJFYKnw3VFS7km6qglQvbYsaDvtIctIwEhfVkIwjHqRwYLnmE9fnItleh+VcOHDlug29G2LhMnknpQvDvQ7B5VDiYo4ZM2BYYtcB02Q/NJsDxDyWqTuihXk93zATgvGhC/9cabJpxYFJJL7rk6eckJGKGk6VODPn8GP7Uh5cMLWgpUNEdQbgu2+DZnI3sTXIEJ+2w39dQ+VQlTs5m3LC8XozB3F70H1YLG58zhDaw0TawJaINmLJaKfyODlJdW01KX00n6W9fJ0/qFL8eJNXpBaTLza+OmXeQ9OZhEqLvp4aqSfprXWScFeU9HiNtu9KJ8W9sj4SEOPy2ClJ6fpyTq5DDRHak7yAmB1vzk4HfU5lMp8uuvaS0oYfc9nMfSRgT75XS7zaR4SjFuX5nFzGeMJKKfXtJwbFLZILJ/bdjpKO8gOS91kMm+MNWDfYMV9SaSEdzKdm9r44Msjrfx14y0FxECnYZyfUo18e3exHpuSdsWAYr6gYqMsvRcqoW+dR6mktgZBB2qLHpR/x62iYt8L4dw8EAHFftgHoTlOvojnVpUG0HbH8dpn2hhIQYqFX1Vwdc3T0YDlC3JEOHA5hG300n/ctIQ/mfRzF68yosRj20iQwoPbSjq8MFTVkhdEu5fw9sMHYAB481wHy5EdpbLSg+7cA336RAq1PBK5chRTh0VQja0VZhhV9TiPK6ZlS9OIT6Pw4h8CgEVYaWtmMK5FFOUPZyIaq2udF+fmjZz/CqxKy8XzqFd3PxwP/Qi4lRYXUuHv+KK6vASCcqj7eg86QBWfvrqesg7Eh2HnlgO92EpkYDcvYb0J60MY5njQK6khoYDmdDxRTGOhnn4smmQwhx+/+Ff33phvOWE24fr74She+aFUOPdMjfzVzOyARG7XB8fgE9I1SbrtdCtx+YvuzA2AYlAi47sn9BFdbkKt7PlFT8+GUVVevTgoKnfD2FkFyFlK9uAAc0SLkXeLovHOtU2PlLDXCtB4OTwrY4WZ0A+3S4ywvgm3/SXeGyB4Fv4ldWM9MIPowijJF6EGF38jIN14UmODWH0GC04Nx/AdaKSvR9JeyO5dq/w8i3H0R5CVVWVEtN37qBvvVq6PN2gumulO//kFoIwJaMNIyfykQhtYQS0lIzbgx1u4DMbGj/Q9gWAUXmIdQcLkf2ZnZGVJkybbqeKtOQH/57afA7qAyuFx2ZTxwyDQwdvWgpUkM2OQzbqAr5JT+Hkj6NXt//QXF3GKMz8qhxPuUr+dDBja4h2i7LYJ6yCt5sQmZGBjLoklVQjOKSpZecV/hj5y4tIzHccu6uLITeLOr6yViQfSH0+GgNEpYZH+wnS1F/wy9siECkHkR4m7yMY/iyC0PmISoKgOrlXOpc0/VbgllI29PTXQzDBXdiHsSVJuhA06xM7SkMK3Pzlv2Zi+Qv45Rj8bUGnehsHcfB5tMo384kSYHc1n405KkhX6fEzj06eC52YfABf/iy+IcDNtr8uiwtH8pYig0aHCzTI3sTPadHDtwYkEFdlI+d1HLRX7bB0tGA3I3CsatGEO5rfbD234Bn+z7kZzB/WY7sxhFYLjTDsC2GJ3OjFtkZ1OZ4f5ST07gRYlc8LHB2dAcfePz9APHGMvI85CcTf+shdb8RPvcOHyh/ihDMnBNg939YQY+texKcY4HQdC5Y5yeDR+cey392x4k5wXkRjFsKyI63B4l/0XWEyNjZIrIjvWBx4M9ziZTS7UZ7giOuIvDS9tiR3kZuh2n/0J0OUrQrnRT8iYVeQ2Ti4x7S0T/Gtw+bcYHeA36fwONx0vVaOqmwrd71iIG/dioD6RVkIJZJGx6HiN8zTHreZveTfc5EhucK4LdjpO23ZaTHRVso5CVj9+jrvR5SQI8t7ef/ASd/4WQhDibeK6LflUe6vhA2xMLjKXL73QJS+u5wbM/cKjF+Pk94ToUNIhi30M8us43nu4G0l8mnvc9BZt2MNKHp/RgCNzIFVK/o0dzzAczMXKQ9gv2hsC8Cisx9yIYTk4K7MnHPgbQcajbLFdDRV4xOgvvPMxPwjKRh324tZ7qL4u8W1HcoUftWLhSLejgvXDc9wE+zoH7Sc4XrQVYBnw2mP4axDgS8dx3wUPspa2sqXZNBtUeP8gIN1z6eT2xwbsjGoT1zYiXrqOtTr8ek0YShKPdlpXGdoZZPhW1J91qZdxqnC1hvTa0sY1/0Gp11Mig26aA/2YsPzrDylz7YbghBg0ce9J204odvNSD/BdqzO6xoukklS5EK1U8MOJKjpAdNY8LthGx7IXQLEkHiCcB9i9kOGSxHFCPUle+ohCW1AeZKLXDXs+Lx2Zjx2dFSXY8hIdaUupFe1CP6fN8Sf4YqtY7+9cD5xTKCK4LSmkfoThvX87Aeou2OmLKBKXL97R2k+kO+F5+6c4l0nDWSUmoJpO8qJcazHWTQzX8fS9lWl5tIT6+JVDd0kOHZXvSxn9w+X03K3ukhPS3VpO5sPL0Nfx7pJxZaebERdw/iHyTVP+8gY8KqeJhlKVioESyriHx5iVS8Vk0ufRHuiifIpTfSSd75cWF9dRgz0+uiFntUG49ZQ9QaZO2QZx4TdQ+nPq4jO45Ra5rJwInZtny6VA/xN9X7sYmUldcR09ulpOhY21P5Wxb0vNn/eaOHL0GICrWM36sj1ZbbxPv1FJm6f52YWNmOsHfZLFMeWVum7yp64mXwz0UpuRTPXG7UYylibfPubWGDeCLUWTE3qYC/wa/Sh+ZbYXMs+MfJbZc3LiWRMLg6LhH1WV4qJMfqyKCHX+XdgnRS97FIbXV/gFSIVTJzYO7x7ndMxMjaXcz3UPev+rdGMsiE6OsJMuZdfN2ce7KXCm6c55YIYlZWlJCr42mH6RQhTbSzG/90jIRpgpWHu//0nGsHYwpbTNmNgus6Z4nxszGxTHlk7unYnypI0VET6XiHvh6qIz3OOMMJU9dJHbu+NwdIvP1ChGygDJrfmdGQSd/6rDhiFFEjoVBDu00ZX0A8QQRHh2GHFprNC85iJgBHqwGFBTnILGiCXfByg3ft6LtFTVQPb6L6H1C7d70GGvUzzMQ8tKOtVY7a32WFdXnZYFhDQSFyXilE07U57jkbNHrShez6cujk1JX9qAl9dxenBlRq6mIEbsAVNX0cgK1iQdD6zNwsjgvtdFv7Z/xr+GN4OLdvdj91/8IPzAiPbFs5zHXMdfDCWkZdkVhd2HUKqF/WQLkaAujzUOeVslERU9hCntWAkdFRjM5dTuWKD3msFOvk0JSY0dtag/Lj9PVCM/TxhkfkqWCBC4x64I1z+E3k0gUWvzreAB2LX12rR30s8askwXPPTv+qoVyQOva9X4327x+Bpa0cL03aUHOZf8DkWbWwHE7F+Add6DxVCeOn21DVehoHX+B2PwOCsJ9uAqqPIlcRpsruqz5UtwJHLppRvtUD2/E+qjIYHljfrKSK1ob613OQtScLxa0B/FgZRtyVKujo8a57S3U7TFHloGmz5enD8xGVgW4DKq/MjzVYD3dB9ZFwzAU9QI9p/0zYSWGKytCth0X4nqt77GjqFnbGiDKvFg2vMK1jR31j4saYrRiP+Rfti2n8G4k5pEKVwV7jz0svXWelzEdzYy5nJTlOmriUbPIj1BZlKDFPZLj6l1QcKmZBTAdYWWr+9i38vkT2IHEwPXIWTf+sQvme8P/TfbUXqYY3oJ1xwcGKZvO04M+cpbgFhfFkscGwlds5H4WSHk3VW2CJMo4H1CId0aHh1xphA2XjTmRTC9sx6RU28OgaG5E/m5zY/gZnhVtvCtbVAxu6qGLSX6jC7Dcp8hp5S10MrMNsbEaukPAxXUluAQxQy4ojWsnCcwnthDlr1wPffW6DaJZWVhT5nkacK2Fi7kBTmQXuZO/dqJXi52SaNs48oVGhsLsB2Rt8GHyPWl7rDyI7YzV8hQU8cqC90YuqY/kR63JUr1vRQBWZ71oftTFkOLhHK97NXsdbbJ7/XUJZbcyHedTMKyGqcCo5F45aWiP87rmoXlxCmXPukB7Z24V1DgVUm4W3YtiQjcYzek7ROk5Sq/guv1ni+SOqsuLiV4cboGepWF8nTGvIHZzHOhnkG+SQ+YYx9Dm9qv06aMMVoMbCtBOd4YoUqzqpxWZDS2mYfceH+HKMeUzDea4d3rdqkc+y6BGQyeWQy3wY/pBaLusPQMcVNq4Ec+JV+5vgKGHu4FXRFlHgy/DRqbRNLAYlHtn2cjRwHaYXna19YdpxbfEkjidiWZKEyeNTwp1DtGXFEQLtUfH2l5EdR2MsFF1VhMLSCFkHvjhtB2lz0pXQFJlKZNZIdPZljPS8UUSK5i6/2StkiHaTArZuERLP7i6SR7fvYKnfxyEyJfrEhbT6UqnjO230/1aQgfvCOodQ1GueTYDz39N2R1jlWHAM9z1ti1LmYrKBi/jyEinblcQ/gUaZzSKXJctPkC03G5hQBBlJL4ut2DcMMVhWVHF/1o7K99Qwn4jsqkRkJgjPZ24E4nQf2VxY1qvzh4uwubBqjrfAeq4FR6qtcM8bT6iAklmBox4scnhm3HC87wWU1EX5GbVqzHk4Oxp/wG/5aKDv7kXv3KW9HFpuXz5qLtL1Uj7q475po3ZFGvS/0GJ6tB15HbOzB8RIwMdl47SqyMFfziLKzMbOuUM8uDiW8D5WuGC+FfY5AXdmtXnuCW/F8siF9qP9ULc2c8WdYgncdcEX54yV4eQvErLVHMe3ZpAjJU6PJrqyYrMdHvNA3xbPbIcUdz/KKoyw3RWnFNgsCDXHa1B5rB7tN71Px+k9HIKpbBBbDDXQl9XgyAudKG6bX/Gd+gJ73IMILhTQhx6MMdt3lxZb7g/CevcQCl9OgrhVVOiDfpcFuKnrqvZhsHcchwp14uJWwSlOeauUkf1NxYvU1RppQs8TJUPdwmbqDrK39zx0LUY25uNQCcsYtgtZS/pNV4xhY19RmfHBVl8JT7EZVRlxCGDAjraySrR/Iq5yOqL8LYE8lUvOw/lVlLGoS/HADddXq9mBrhReeDm5UkIRp05fWlmxHq3CCtWp+Ho0jq0GXL3ZG9uAxzmInwuLX2co/1NLbZBhuBfWFCmyceiwGrIPavBqnQv7jHqokiZz44KVxRJ+a+KVA7VMKl+l62wEP7UWs0sMUK8fQM2Berh+2Qz9T7iDYiZ4zwU3sqFZasLG7VW42khtosOzcYgc2PdchYUqHox4qLjFjqZilH7OCoMQz8i5lo0G9j2i4IeiWDe1oDlviaDeUtB73nzzBlpyxGV3I8nfkmxQUsmkhOIdAh+A3VyKyg577B3Ds2Cud+QbQstpK6wnDTCcccTuMc2E+BlVtgr1VnMIXKmMOgyLQ3AHF8MNat4t+ifAp+wmUmphQyRCZLzXSKrLC8he8+04K9oXD4IeO8uGUCwYBJ2+YAgAG7z7ajop6H3G8ywmVYxgLiEy/A5tx9pwg7qTFzaoebfYOOnX14npUBcZowLnp7JoPFpKdpfHWzW9WP6WJAFV2gklUfL4RRfZu6uIdLlCZKK3iOxuuE783KD5vCez/UaFOxdeBuOt0I9gWcXZo1FLrKtjAFvUWyB7MIjOUS1yM6YRuMPHj6Y/t6K+rn7JpemjKHXOS8yF9YR1auSWaOD50yBcz7LU4t9pz7pfuajnWHUe2mG7nAZ9QXaYQd3JCRcn7VahRVSclMpt91kMbFZjyzoXes7/ALrdSgS/csPDLG+fHe1hZG7ectEZ/0BiuQoaVuMWLl4ajQd2tBgrYdhzBLbZ+ciWS6LkcY53pCrqxQ1jNuS0TcfWb8OmWKewue/lahvV1LSPO7InKK15xNOjTbkHiJENPt0laHKWsfp2jLNwZqfiEE+sllWYqSdCY6SDns/swNXnGW6qnDWRyRWgvXbFz0Vm/qbGycAJNp5VyPRyGVM/GXw7neS9Mxxnby7SsqLcfpceH0fGa8xcRDrsA9QyyyMmR7LIbATviHkuv6HnK2KSA+9fymi7pBPTp8KGOFhkWfmuNaHyykswH98JeTCI4MNIS4D6sU44rljR8occ5BQ1wTYJyA7ooGU9Iatr+p9R2Hwa5P4sFcEExQzTXuRzZfNYr4FyoYaXaVB+pgGhk/VrpPJ+ZWAWSv2HuvgyuasBtX6aKmx46Y+N2CkPJ3dPl8CkC86bNlhPVSLnl8VoukKt8vUHofsZ/R4mfxjD8NU06DK3UKuf//qVZosml/51wnVPnMBvKT2H16edGFLqoNuWJFnFMN4RZ72e78S/ai7i9fsmWGMq0p2Gx83sqigx0yh8j2ks4T110ywoLu0UNeB0PjLoz42gSqgPc1/MR/HNQrTkUqX2o2bUpjlw4eMJfmck1AdQnjXregpj1eQtuHGSmp5s08Mh1Oxpw5buq9ywEmdrBpr/aYa1ThfWvJz+Rx+M53+I8lO5iDNEu3aZdsFyzA51fRV0sZrrqwk73yIDOqMOto6MrOgsRv7Ad2jBa/XIOpOC5sMp6PumEJYcP6z9TkxxeyOQuhNvCPODhZW/aATtqM+qwRA9j1HhPGIjCHtdFsxyMyxvaaGQJ0GWmk2LHRpH/68NGC65AkuBEoGPKvFqqw8qpQzTvlQcumRGbrTcxYwL7VkGWDObcWMZA7XnKatEE7haj6LzHmzJOITa6mxRPXvwsz70fOrG6J9tcEGD/KIMaLMPI/enMv43By/6odEBrvEfIL+sHLrnThNJRIN1vmVHB4HMfNQeF36XMkaWkr+lmYbjVCYqL+tx9lYV72XEAqfkzEg5aUBKfxCF/50kmeq/W+i1D6P40jnse4Faq/HoUGrdZx62Yl/riDAwPT5WVFlJSDyX3KUPeEkndGdGUJMZ48PJrMo3KzEIHfKrG6HfmgSWFWWhd9Twili7aBrO07tx5BM9LO+XQ7MMBRxTBbuEhIQItubDkAn0dQ/GPo6R/ZLMxRvov9icNIqKkarcBkVwEDZPPg4t+SOIEXgwCOulaehKDyxLUTEky0pCYiWY7IOhoAuacx+gKhlm91gVpuE6UwjDnUL0X1i+WytZVhISK8Gmg2ioToPVaF0D0yqtDNOfX0BTtwJV9YmJv0nKSkJihVAVNKNh8wXUmEUOOv8u8MiFzhNWKOvEDw2LhOQGSkisJGwgdnUB7Lsuw/yr5yRlzV1zMb1mC07nqbgfL04EkrKSkFhpZgJwfz4F5TYV5Al6cJOaRz64JlOg2ZrYqcElZSUhIbEmkGJWEhISawJJWUlISKwJJGUlISGxJpCUlYSExJpAUlYSEhJrAklZSUhIrAkkZSUhIbEGAP4fDLkY7Ce7n84AAAAASUVORK5CYII=)"
      ],
      "metadata": {
        "id": "vneqTGx6C60w"
      }
    },
    {
      "cell_type": "code",
      "source": [
        "x_k <- 0\n",
        "for(k in 10:100){\n",
        "  x_k <- x_k + k^3 + (4*k^2)\n",
        "}\n",
        "x_k"
      ],
      "metadata": {
        "colab": {
          "base_uri": "https://localhost:8080/",
          "height": 34
        },
        "id": "Tu8ktdj3DYuT",
        "outputId": "95c25fc6-2201-4bf7-efbb-63552baf72d5"
      },
      "execution_count": 83,
      "outputs": [
        {
          "output_type": "display_data",
          "data": {
            "text/html": [
              "26852735"
            ],
            "text/markdown": "26852735",
            "text/latex": "26852735",
            "text/plain": [
              "[1] 26852735"
            ]
          },
          "metadata": {}
        }
      ]
    },
    {
      "cell_type": "code",
      "source": [
        "x_l <- 0\n",
        "for(l in 1:25){\n",
        "  x_l <- x_l + ((2^l/l)+ (3^l/ l^2))\n",
        "}\n",
        "x_l"
      ],
      "metadata": {
        "colab": {
          "base_uri": "https://localhost:8080/",
          "height": 34
        },
        "id": "nh16zxMF-3Qb",
        "outputId": "0d79dc4c-22d4-4fe1-82da-0376f08f1fc0"
      },
      "execution_count": 85,
      "outputs": [
        {
          "output_type": "display_data",
          "data": {
            "text/html": [
              "2129170436.81438"
            ],
            "text/markdown": "2129170436.81438",
            "text/latex": "2129170436.81438",
            "text/plain": [
              "[1] 2129170437"
            ]
          },
          "metadata": {}
        }
      ]
    },
    {
      "cell_type": "markdown",
      "source": [
        "16. Read the data set available in: https://raw.githubusercontent.com/fhernanb/datos/master/Paises.txt\n"
      ],
      "metadata": {
        "id": "KWr6IrZvAjGo"
      }
    },
    {
      "cell_type": "markdown",
      "source": [
        "17. Use a code to obtain the number of variables of the data set."
      ],
      "metadata": {
        "id": "oDvmbgwCAnsJ"
      }
    },
    {
      "cell_type": "markdown",
      "source": [
        "18. Use a code to obtain the number of countries in the data set."
      ],
      "metadata": {
        "id": "bYc0wYQKAtF-"
      }
    },
    {
      "cell_type": "markdown",
      "source": [
        "19. Which is the country with the higher population?"
      ],
      "metadata": {
        "id": "g2CDh_ncAyRd"
      }
    },
    {
      "cell_type": "markdown",
      "source": [
        "20. Which is the country with the lowest literacy rate?"
      ],
      "metadata": {
        "id": "pzH0UxP-A2Q-"
      }
    },
    {
      "cell_type": "markdown",
      "source": [
        "21. ¿Qué valor de verdad tiene la siguiente afirmación? “Los resultados de la función floor y trunc son siempre los mismos”."
      ],
      "metadata": {
        "id": "SyiRs5mXA6De"
      }
    },
    {
      "cell_type": "markdown",
      "source": [
        "En R hay unas bases de datos incluídas, una de ellas es la base de datos llamada mtcars. Para conocer las variables que están en mtcars usted puede escribir en la consola ?mtcars o también help(mtcars). De la base mtcars obtenga bases de datos que cumplan las siguientes condiciones."
      ],
      "metadata": {
        "id": "sL7GyiGtDtKM"
      }
    },
    {
      "cell_type": "code",
      "source": [
        "help(mtcars)"
      ],
      "metadata": {
        "id": "CW_Wj88EDx3o"
      },
      "execution_count": null,
      "outputs": []
    },
    {
      "cell_type": "markdown",
      "source": [
        "Los datos se extrajeron de la revista estadounidense Motor Trend de 1974 y comprenden el consumo de combustible y 10 aspectos del diseño y rendimiento del automóvil para 32 automóviles (modelos 1973 - 74)\n",
        "\n",
        "Un marco de datos con 32 observaciones sobre 11 variables (numéricas)\n",
        "\n",
        "*   **mpg** Millas/ galón (EE.UU.)\n",
        "*   **cyl** Número de cilindros\n",
        "*   **disp** Desplazamiento\n",
        "*   **hp** Potencia bruta\n",
        "*   **drat** Relación del eje trasero\n",
        "*   **wt** Peso (1000 lbs)\n",
        "*   **qsec** 1/4 de milla de tiempo\n",
        "*   **vs** Motor (0 = forma de V, 1= recto)\n",
        "*   **am** Transmisión ( 0 = automática, 1 = manual)\n",
        "*   **gear** Número de marchas hacia adelante\n",
        "*   **carb** Número de carburadores"
      ],
      "metadata": {
        "id": "ABzzagH_Dunk"
      }
    },
    {
      "cell_type": "code",
      "source": [
        "mtcars"
      ],
      "metadata": {
        "colab": {
          "base_uri": "https://localhost:8080/",
          "height": 1000
        },
        "id": "7Zf1jPaUD9CK",
        "outputId": "4feef68d-e75d-4fa4-ae52-17a314ba713d"
      },
      "execution_count": null,
      "outputs": [
        {
          "output_type": "display_data",
          "data": {
            "text/html": [
              "<table class=\"dataframe\">\n",
              "<caption>A data.frame: 32 × 11</caption>\n",
              "<thead>\n",
              "\t<tr><th></th><th scope=col>mpg</th><th scope=col>cyl</th><th scope=col>disp</th><th scope=col>hp</th><th scope=col>drat</th><th scope=col>wt</th><th scope=col>qsec</th><th scope=col>vs</th><th scope=col>am</th><th scope=col>gear</th><th scope=col>carb</th></tr>\n",
              "\t<tr><th></th><th scope=col>&lt;dbl&gt;</th><th scope=col>&lt;dbl&gt;</th><th scope=col>&lt;dbl&gt;</th><th scope=col>&lt;dbl&gt;</th><th scope=col>&lt;dbl&gt;</th><th scope=col>&lt;dbl&gt;</th><th scope=col>&lt;dbl&gt;</th><th scope=col>&lt;dbl&gt;</th><th scope=col>&lt;dbl&gt;</th><th scope=col>&lt;dbl&gt;</th><th scope=col>&lt;dbl&gt;</th></tr>\n",
              "</thead>\n",
              "<tbody>\n",
              "\t<tr><th scope=row>Mazda RX4</th><td>21.0</td><td>6</td><td>160.0</td><td>110</td><td>3.90</td><td>2.620</td><td>16.46</td><td>0</td><td>1</td><td>4</td><td>4</td></tr>\n",
              "\t<tr><th scope=row>Mazda RX4 Wag</th><td>21.0</td><td>6</td><td>160.0</td><td>110</td><td>3.90</td><td>2.875</td><td>17.02</td><td>0</td><td>1</td><td>4</td><td>4</td></tr>\n",
              "\t<tr><th scope=row>Datsun 710</th><td>22.8</td><td>4</td><td>108.0</td><td> 93</td><td>3.85</td><td>2.320</td><td>18.61</td><td>1</td><td>1</td><td>4</td><td>1</td></tr>\n",
              "\t<tr><th scope=row>Hornet 4 Drive</th><td>21.4</td><td>6</td><td>258.0</td><td>110</td><td>3.08</td><td>3.215</td><td>19.44</td><td>1</td><td>0</td><td>3</td><td>1</td></tr>\n",
              "\t<tr><th scope=row>Hornet Sportabout</th><td>18.7</td><td>8</td><td>360.0</td><td>175</td><td>3.15</td><td>3.440</td><td>17.02</td><td>0</td><td>0</td><td>3</td><td>2</td></tr>\n",
              "\t<tr><th scope=row>Valiant</th><td>18.1</td><td>6</td><td>225.0</td><td>105</td><td>2.76</td><td>3.460</td><td>20.22</td><td>1</td><td>0</td><td>3</td><td>1</td></tr>\n",
              "\t<tr><th scope=row>Duster 360</th><td>14.3</td><td>8</td><td>360.0</td><td>245</td><td>3.21</td><td>3.570</td><td>15.84</td><td>0</td><td>0</td><td>3</td><td>4</td></tr>\n",
              "\t<tr><th scope=row>Merc 240D</th><td>24.4</td><td>4</td><td>146.7</td><td> 62</td><td>3.69</td><td>3.190</td><td>20.00</td><td>1</td><td>0</td><td>4</td><td>2</td></tr>\n",
              "\t<tr><th scope=row>Merc 230</th><td>22.8</td><td>4</td><td>140.8</td><td> 95</td><td>3.92</td><td>3.150</td><td>22.90</td><td>1</td><td>0</td><td>4</td><td>2</td></tr>\n",
              "\t<tr><th scope=row>Merc 280</th><td>19.2</td><td>6</td><td>167.6</td><td>123</td><td>3.92</td><td>3.440</td><td>18.30</td><td>1</td><td>0</td><td>4</td><td>4</td></tr>\n",
              "\t<tr><th scope=row>Merc 280C</th><td>17.8</td><td>6</td><td>167.6</td><td>123</td><td>3.92</td><td>3.440</td><td>18.90</td><td>1</td><td>0</td><td>4</td><td>4</td></tr>\n",
              "\t<tr><th scope=row>Merc 450SE</th><td>16.4</td><td>8</td><td>275.8</td><td>180</td><td>3.07</td><td>4.070</td><td>17.40</td><td>0</td><td>0</td><td>3</td><td>3</td></tr>\n",
              "\t<tr><th scope=row>Merc 450SL</th><td>17.3</td><td>8</td><td>275.8</td><td>180</td><td>3.07</td><td>3.730</td><td>17.60</td><td>0</td><td>0</td><td>3</td><td>3</td></tr>\n",
              "\t<tr><th scope=row>Merc 450SLC</th><td>15.2</td><td>8</td><td>275.8</td><td>180</td><td>3.07</td><td>3.780</td><td>18.00</td><td>0</td><td>0</td><td>3</td><td>3</td></tr>\n",
              "\t<tr><th scope=row>Cadillac Fleetwood</th><td>10.4</td><td>8</td><td>472.0</td><td>205</td><td>2.93</td><td>5.250</td><td>17.98</td><td>0</td><td>0</td><td>3</td><td>4</td></tr>\n",
              "\t<tr><th scope=row>Lincoln Continental</th><td>10.4</td><td>8</td><td>460.0</td><td>215</td><td>3.00</td><td>5.424</td><td>17.82</td><td>0</td><td>0</td><td>3</td><td>4</td></tr>\n",
              "\t<tr><th scope=row>Chrysler Imperial</th><td>14.7</td><td>8</td><td>440.0</td><td>230</td><td>3.23</td><td>5.345</td><td>17.42</td><td>0</td><td>0</td><td>3</td><td>4</td></tr>\n",
              "\t<tr><th scope=row>Fiat 128</th><td>32.4</td><td>4</td><td> 78.7</td><td> 66</td><td>4.08</td><td>2.200</td><td>19.47</td><td>1</td><td>1</td><td>4</td><td>1</td></tr>\n",
              "\t<tr><th scope=row>Honda Civic</th><td>30.4</td><td>4</td><td> 75.7</td><td> 52</td><td>4.93</td><td>1.615</td><td>18.52</td><td>1</td><td>1</td><td>4</td><td>2</td></tr>\n",
              "\t<tr><th scope=row>Toyota Corolla</th><td>33.9</td><td>4</td><td> 71.1</td><td> 65</td><td>4.22</td><td>1.835</td><td>19.90</td><td>1</td><td>1</td><td>4</td><td>1</td></tr>\n",
              "\t<tr><th scope=row>Toyota Corona</th><td>21.5</td><td>4</td><td>120.1</td><td> 97</td><td>3.70</td><td>2.465</td><td>20.01</td><td>1</td><td>0</td><td>3</td><td>1</td></tr>\n",
              "\t<tr><th scope=row>Dodge Challenger</th><td>15.5</td><td>8</td><td>318.0</td><td>150</td><td>2.76</td><td>3.520</td><td>16.87</td><td>0</td><td>0</td><td>3</td><td>2</td></tr>\n",
              "\t<tr><th scope=row>AMC Javelin</th><td>15.2</td><td>8</td><td>304.0</td><td>150</td><td>3.15</td><td>3.435</td><td>17.30</td><td>0</td><td>0</td><td>3</td><td>2</td></tr>\n",
              "\t<tr><th scope=row>Camaro Z28</th><td>13.3</td><td>8</td><td>350.0</td><td>245</td><td>3.73</td><td>3.840</td><td>15.41</td><td>0</td><td>0</td><td>3</td><td>4</td></tr>\n",
              "\t<tr><th scope=row>Pontiac Firebird</th><td>19.2</td><td>8</td><td>400.0</td><td>175</td><td>3.08</td><td>3.845</td><td>17.05</td><td>0</td><td>0</td><td>3</td><td>2</td></tr>\n",
              "\t<tr><th scope=row>Fiat X1-9</th><td>27.3</td><td>4</td><td> 79.0</td><td> 66</td><td>4.08</td><td>1.935</td><td>18.90</td><td>1</td><td>1</td><td>4</td><td>1</td></tr>\n",
              "\t<tr><th scope=row>Porsche 914-2</th><td>26.0</td><td>4</td><td>120.3</td><td> 91</td><td>4.43</td><td>2.140</td><td>16.70</td><td>0</td><td>1</td><td>5</td><td>2</td></tr>\n",
              "\t<tr><th scope=row>Lotus Europa</th><td>30.4</td><td>4</td><td> 95.1</td><td>113</td><td>3.77</td><td>1.513</td><td>16.90</td><td>1</td><td>1</td><td>5</td><td>2</td></tr>\n",
              "\t<tr><th scope=row>Ford Pantera L</th><td>15.8</td><td>8</td><td>351.0</td><td>264</td><td>4.22</td><td>3.170</td><td>14.50</td><td>0</td><td>1</td><td>5</td><td>4</td></tr>\n",
              "\t<tr><th scope=row>Ferrari Dino</th><td>19.7</td><td>6</td><td>145.0</td><td>175</td><td>3.62</td><td>2.770</td><td>15.50</td><td>0</td><td>1</td><td>5</td><td>6</td></tr>\n",
              "\t<tr><th scope=row>Maserati Bora</th><td>15.0</td><td>8</td><td>301.0</td><td>335</td><td>3.54</td><td>3.570</td><td>14.60</td><td>0</td><td>1</td><td>5</td><td>8</td></tr>\n",
              "\t<tr><th scope=row>Volvo 142E</th><td>21.4</td><td>4</td><td>121.0</td><td>109</td><td>4.11</td><td>2.780</td><td>18.60</td><td>1</td><td>1</td><td>4</td><td>2</td></tr>\n",
              "</tbody>\n",
              "</table>\n"
            ],
            "text/markdown": "\nA data.frame: 32 × 11\n\n| <!--/--> | mpg &lt;dbl&gt; | cyl &lt;dbl&gt; | disp &lt;dbl&gt; | hp &lt;dbl&gt; | drat &lt;dbl&gt; | wt &lt;dbl&gt; | qsec &lt;dbl&gt; | vs &lt;dbl&gt; | am &lt;dbl&gt; | gear &lt;dbl&gt; | carb &lt;dbl&gt; |\n|---|---|---|---|---|---|---|---|---|---|---|---|\n| Mazda RX4 | 21.0 | 6 | 160.0 | 110 | 3.90 | 2.620 | 16.46 | 0 | 1 | 4 | 4 |\n| Mazda RX4 Wag | 21.0 | 6 | 160.0 | 110 | 3.90 | 2.875 | 17.02 | 0 | 1 | 4 | 4 |\n| Datsun 710 | 22.8 | 4 | 108.0 |  93 | 3.85 | 2.320 | 18.61 | 1 | 1 | 4 | 1 |\n| Hornet 4 Drive | 21.4 | 6 | 258.0 | 110 | 3.08 | 3.215 | 19.44 | 1 | 0 | 3 | 1 |\n| Hornet Sportabout | 18.7 | 8 | 360.0 | 175 | 3.15 | 3.440 | 17.02 | 0 | 0 | 3 | 2 |\n| Valiant | 18.1 | 6 | 225.0 | 105 | 2.76 | 3.460 | 20.22 | 1 | 0 | 3 | 1 |\n| Duster 360 | 14.3 | 8 | 360.0 | 245 | 3.21 | 3.570 | 15.84 | 0 | 0 | 3 | 4 |\n| Merc 240D | 24.4 | 4 | 146.7 |  62 | 3.69 | 3.190 | 20.00 | 1 | 0 | 4 | 2 |\n| Merc 230 | 22.8 | 4 | 140.8 |  95 | 3.92 | 3.150 | 22.90 | 1 | 0 | 4 | 2 |\n| Merc 280 | 19.2 | 6 | 167.6 | 123 | 3.92 | 3.440 | 18.30 | 1 | 0 | 4 | 4 |\n| Merc 280C | 17.8 | 6 | 167.6 | 123 | 3.92 | 3.440 | 18.90 | 1 | 0 | 4 | 4 |\n| Merc 450SE | 16.4 | 8 | 275.8 | 180 | 3.07 | 4.070 | 17.40 | 0 | 0 | 3 | 3 |\n| Merc 450SL | 17.3 | 8 | 275.8 | 180 | 3.07 | 3.730 | 17.60 | 0 | 0 | 3 | 3 |\n| Merc 450SLC | 15.2 | 8 | 275.8 | 180 | 3.07 | 3.780 | 18.00 | 0 | 0 | 3 | 3 |\n| Cadillac Fleetwood | 10.4 | 8 | 472.0 | 205 | 2.93 | 5.250 | 17.98 | 0 | 0 | 3 | 4 |\n| Lincoln Continental | 10.4 | 8 | 460.0 | 215 | 3.00 | 5.424 | 17.82 | 0 | 0 | 3 | 4 |\n| Chrysler Imperial | 14.7 | 8 | 440.0 | 230 | 3.23 | 5.345 | 17.42 | 0 | 0 | 3 | 4 |\n| Fiat 128 | 32.4 | 4 |  78.7 |  66 | 4.08 | 2.200 | 19.47 | 1 | 1 | 4 | 1 |\n| Honda Civic | 30.4 | 4 |  75.7 |  52 | 4.93 | 1.615 | 18.52 | 1 | 1 | 4 | 2 |\n| Toyota Corolla | 33.9 | 4 |  71.1 |  65 | 4.22 | 1.835 | 19.90 | 1 | 1 | 4 | 1 |\n| Toyota Corona | 21.5 | 4 | 120.1 |  97 | 3.70 | 2.465 | 20.01 | 1 | 0 | 3 | 1 |\n| Dodge Challenger | 15.5 | 8 | 318.0 | 150 | 2.76 | 3.520 | 16.87 | 0 | 0 | 3 | 2 |\n| AMC Javelin | 15.2 | 8 | 304.0 | 150 | 3.15 | 3.435 | 17.30 | 0 | 0 | 3 | 2 |\n| Camaro Z28 | 13.3 | 8 | 350.0 | 245 | 3.73 | 3.840 | 15.41 | 0 | 0 | 3 | 4 |\n| Pontiac Firebird | 19.2 | 8 | 400.0 | 175 | 3.08 | 3.845 | 17.05 | 0 | 0 | 3 | 2 |\n| Fiat X1-9 | 27.3 | 4 |  79.0 |  66 | 4.08 | 1.935 | 18.90 | 1 | 1 | 4 | 1 |\n| Porsche 914-2 | 26.0 | 4 | 120.3 |  91 | 4.43 | 2.140 | 16.70 | 0 | 1 | 5 | 2 |\n| Lotus Europa | 30.4 | 4 |  95.1 | 113 | 3.77 | 1.513 | 16.90 | 1 | 1 | 5 | 2 |\n| Ford Pantera L | 15.8 | 8 | 351.0 | 264 | 4.22 | 3.170 | 14.50 | 0 | 1 | 5 | 4 |\n| Ferrari Dino | 19.7 | 6 | 145.0 | 175 | 3.62 | 2.770 | 15.50 | 0 | 1 | 5 | 6 |\n| Maserati Bora | 15.0 | 8 | 301.0 | 335 | 3.54 | 3.570 | 14.60 | 0 | 1 | 5 | 8 |\n| Volvo 142E | 21.4 | 4 | 121.0 | 109 | 4.11 | 2.780 | 18.60 | 1 | 1 | 4 | 2 |\n\n",
            "text/latex": "A data.frame: 32 × 11\n\\begin{tabular}{r|lllllllllll}\n  & mpg & cyl & disp & hp & drat & wt & qsec & vs & am & gear & carb\\\\\n  & <dbl> & <dbl> & <dbl> & <dbl> & <dbl> & <dbl> & <dbl> & <dbl> & <dbl> & <dbl> & <dbl>\\\\\n\\hline\n\tMazda RX4 & 21.0 & 6 & 160.0 & 110 & 3.90 & 2.620 & 16.46 & 0 & 1 & 4 & 4\\\\\n\tMazda RX4 Wag & 21.0 & 6 & 160.0 & 110 & 3.90 & 2.875 & 17.02 & 0 & 1 & 4 & 4\\\\\n\tDatsun 710 & 22.8 & 4 & 108.0 &  93 & 3.85 & 2.320 & 18.61 & 1 & 1 & 4 & 1\\\\\n\tHornet 4 Drive & 21.4 & 6 & 258.0 & 110 & 3.08 & 3.215 & 19.44 & 1 & 0 & 3 & 1\\\\\n\tHornet Sportabout & 18.7 & 8 & 360.0 & 175 & 3.15 & 3.440 & 17.02 & 0 & 0 & 3 & 2\\\\\n\tValiant & 18.1 & 6 & 225.0 & 105 & 2.76 & 3.460 & 20.22 & 1 & 0 & 3 & 1\\\\\n\tDuster 360 & 14.3 & 8 & 360.0 & 245 & 3.21 & 3.570 & 15.84 & 0 & 0 & 3 & 4\\\\\n\tMerc 240D & 24.4 & 4 & 146.7 &  62 & 3.69 & 3.190 & 20.00 & 1 & 0 & 4 & 2\\\\\n\tMerc 230 & 22.8 & 4 & 140.8 &  95 & 3.92 & 3.150 & 22.90 & 1 & 0 & 4 & 2\\\\\n\tMerc 280 & 19.2 & 6 & 167.6 & 123 & 3.92 & 3.440 & 18.30 & 1 & 0 & 4 & 4\\\\\n\tMerc 280C & 17.8 & 6 & 167.6 & 123 & 3.92 & 3.440 & 18.90 & 1 & 0 & 4 & 4\\\\\n\tMerc 450SE & 16.4 & 8 & 275.8 & 180 & 3.07 & 4.070 & 17.40 & 0 & 0 & 3 & 3\\\\\n\tMerc 450SL & 17.3 & 8 & 275.8 & 180 & 3.07 & 3.730 & 17.60 & 0 & 0 & 3 & 3\\\\\n\tMerc 450SLC & 15.2 & 8 & 275.8 & 180 & 3.07 & 3.780 & 18.00 & 0 & 0 & 3 & 3\\\\\n\tCadillac Fleetwood & 10.4 & 8 & 472.0 & 205 & 2.93 & 5.250 & 17.98 & 0 & 0 & 3 & 4\\\\\n\tLincoln Continental & 10.4 & 8 & 460.0 & 215 & 3.00 & 5.424 & 17.82 & 0 & 0 & 3 & 4\\\\\n\tChrysler Imperial & 14.7 & 8 & 440.0 & 230 & 3.23 & 5.345 & 17.42 & 0 & 0 & 3 & 4\\\\\n\tFiat 128 & 32.4 & 4 &  78.7 &  66 & 4.08 & 2.200 & 19.47 & 1 & 1 & 4 & 1\\\\\n\tHonda Civic & 30.4 & 4 &  75.7 &  52 & 4.93 & 1.615 & 18.52 & 1 & 1 & 4 & 2\\\\\n\tToyota Corolla & 33.9 & 4 &  71.1 &  65 & 4.22 & 1.835 & 19.90 & 1 & 1 & 4 & 1\\\\\n\tToyota Corona & 21.5 & 4 & 120.1 &  97 & 3.70 & 2.465 & 20.01 & 1 & 0 & 3 & 1\\\\\n\tDodge Challenger & 15.5 & 8 & 318.0 & 150 & 2.76 & 3.520 & 16.87 & 0 & 0 & 3 & 2\\\\\n\tAMC Javelin & 15.2 & 8 & 304.0 & 150 & 3.15 & 3.435 & 17.30 & 0 & 0 & 3 & 2\\\\\n\tCamaro Z28 & 13.3 & 8 & 350.0 & 245 & 3.73 & 3.840 & 15.41 & 0 & 0 & 3 & 4\\\\\n\tPontiac Firebird & 19.2 & 8 & 400.0 & 175 & 3.08 & 3.845 & 17.05 & 0 & 0 & 3 & 2\\\\\n\tFiat X1-9 & 27.3 & 4 &  79.0 &  66 & 4.08 & 1.935 & 18.90 & 1 & 1 & 4 & 1\\\\\n\tPorsche 914-2 & 26.0 & 4 & 120.3 &  91 & 4.43 & 2.140 & 16.70 & 0 & 1 & 5 & 2\\\\\n\tLotus Europa & 30.4 & 4 &  95.1 & 113 & 3.77 & 1.513 & 16.90 & 1 & 1 & 5 & 2\\\\\n\tFord Pantera L & 15.8 & 8 & 351.0 & 264 & 4.22 & 3.170 & 14.50 & 0 & 1 & 5 & 4\\\\\n\tFerrari Dino & 19.7 & 6 & 145.0 & 175 & 3.62 & 2.770 & 15.50 & 0 & 1 & 5 & 6\\\\\n\tMaserati Bora & 15.0 & 8 & 301.0 & 335 & 3.54 & 3.570 & 14.60 & 0 & 1 & 5 & 8\\\\\n\tVolvo 142E & 21.4 & 4 & 121.0 & 109 & 4.11 & 2.780 & 18.60 & 1 & 1 & 4 & 2\\\\\n\\end{tabular}\n",
            "text/plain": [
              "                    mpg  cyl disp  hp  drat wt    qsec  vs am gear carb\n",
              "Mazda RX4           21.0 6   160.0 110 3.90 2.620 16.46 0  1  4    4   \n",
              "Mazda RX4 Wag       21.0 6   160.0 110 3.90 2.875 17.02 0  1  4    4   \n",
              "Datsun 710          22.8 4   108.0  93 3.85 2.320 18.61 1  1  4    1   \n",
              "Hornet 4 Drive      21.4 6   258.0 110 3.08 3.215 19.44 1  0  3    1   \n",
              "Hornet Sportabout   18.7 8   360.0 175 3.15 3.440 17.02 0  0  3    2   \n",
              "Valiant             18.1 6   225.0 105 2.76 3.460 20.22 1  0  3    1   \n",
              "Duster 360          14.3 8   360.0 245 3.21 3.570 15.84 0  0  3    4   \n",
              "Merc 240D           24.4 4   146.7  62 3.69 3.190 20.00 1  0  4    2   \n",
              "Merc 230            22.8 4   140.8  95 3.92 3.150 22.90 1  0  4    2   \n",
              "Merc 280            19.2 6   167.6 123 3.92 3.440 18.30 1  0  4    4   \n",
              "Merc 280C           17.8 6   167.6 123 3.92 3.440 18.90 1  0  4    4   \n",
              "Merc 450SE          16.4 8   275.8 180 3.07 4.070 17.40 0  0  3    3   \n",
              "Merc 450SL          17.3 8   275.8 180 3.07 3.730 17.60 0  0  3    3   \n",
              "Merc 450SLC         15.2 8   275.8 180 3.07 3.780 18.00 0  0  3    3   \n",
              "Cadillac Fleetwood  10.4 8   472.0 205 2.93 5.250 17.98 0  0  3    4   \n",
              "Lincoln Continental 10.4 8   460.0 215 3.00 5.424 17.82 0  0  3    4   \n",
              "Chrysler Imperial   14.7 8   440.0 230 3.23 5.345 17.42 0  0  3    4   \n",
              "Fiat 128            32.4 4    78.7  66 4.08 2.200 19.47 1  1  4    1   \n",
              "Honda Civic         30.4 4    75.7  52 4.93 1.615 18.52 1  1  4    2   \n",
              "Toyota Corolla      33.9 4    71.1  65 4.22 1.835 19.90 1  1  4    1   \n",
              "Toyota Corona       21.5 4   120.1  97 3.70 2.465 20.01 1  0  3    1   \n",
              "Dodge Challenger    15.5 8   318.0 150 2.76 3.520 16.87 0  0  3    2   \n",
              "AMC Javelin         15.2 8   304.0 150 3.15 3.435 17.30 0  0  3    2   \n",
              "Camaro Z28          13.3 8   350.0 245 3.73 3.840 15.41 0  0  3    4   \n",
              "Pontiac Firebird    19.2 8   400.0 175 3.08 3.845 17.05 0  0  3    2   \n",
              "Fiat X1-9           27.3 4    79.0  66 4.08 1.935 18.90 1  1  4    1   \n",
              "Porsche 914-2       26.0 4   120.3  91 4.43 2.140 16.70 0  1  5    2   \n",
              "Lotus Europa        30.4 4    95.1 113 3.77 1.513 16.90 1  1  5    2   \n",
              "Ford Pantera L      15.8 8   351.0 264 4.22 3.170 14.50 0  1  5    4   \n",
              "Ferrari Dino        19.7 6   145.0 175 3.62 2.770 15.50 0  1  5    6   \n",
              "Maserati Bora       15.0 8   301.0 335 3.54 3.570 14.60 0  1  5    8   \n",
              "Volvo 142E          21.4 4   121.0 109 4.11 2.780 18.60 1  1  4    2   "
            ]
          },
          "metadata": {}
        }
      ]
    },
    {
      "cell_type": "markdown",
      "source": [
        "22. Autos que tengan un rendimiento menor a 18 millas por galón de combustible."
      ],
      "metadata": {
        "id": "bEv2o6UhEFX3"
      }
    },
    {
      "cell_type": "code",
      "source": [
        "subset(mtcars, subset = mpg < 18)"
      ],
      "metadata": {
        "colab": {
          "base_uri": "https://localhost:8080/",
          "height": 506
        },
        "id": "3Bine2IZEGMU",
        "outputId": "a4bc9af0-88ed-4016-cb7c-57562826fc69"
      },
      "execution_count": null,
      "outputs": [
        {
          "output_type": "display_data",
          "data": {
            "text/html": [
              "<table class=\"dataframe\">\n",
              "<caption>A data.frame: 13 × 11</caption>\n",
              "<thead>\n",
              "\t<tr><th></th><th scope=col>mpg</th><th scope=col>cyl</th><th scope=col>disp</th><th scope=col>hp</th><th scope=col>drat</th><th scope=col>wt</th><th scope=col>qsec</th><th scope=col>vs</th><th scope=col>am</th><th scope=col>gear</th><th scope=col>carb</th></tr>\n",
              "\t<tr><th></th><th scope=col>&lt;dbl&gt;</th><th scope=col>&lt;dbl&gt;</th><th scope=col>&lt;dbl&gt;</th><th scope=col>&lt;dbl&gt;</th><th scope=col>&lt;dbl&gt;</th><th scope=col>&lt;dbl&gt;</th><th scope=col>&lt;dbl&gt;</th><th scope=col>&lt;dbl&gt;</th><th scope=col>&lt;dbl&gt;</th><th scope=col>&lt;dbl&gt;</th><th scope=col>&lt;dbl&gt;</th></tr>\n",
              "</thead>\n",
              "<tbody>\n",
              "\t<tr><th scope=row>Duster 360</th><td>14.3</td><td>8</td><td>360.0</td><td>245</td><td>3.21</td><td>3.570</td><td>15.84</td><td>0</td><td>0</td><td>3</td><td>4</td></tr>\n",
              "\t<tr><th scope=row>Merc 280C</th><td>17.8</td><td>6</td><td>167.6</td><td>123</td><td>3.92</td><td>3.440</td><td>18.90</td><td>1</td><td>0</td><td>4</td><td>4</td></tr>\n",
              "\t<tr><th scope=row>Merc 450SE</th><td>16.4</td><td>8</td><td>275.8</td><td>180</td><td>3.07</td><td>4.070</td><td>17.40</td><td>0</td><td>0</td><td>3</td><td>3</td></tr>\n",
              "\t<tr><th scope=row>Merc 450SL</th><td>17.3</td><td>8</td><td>275.8</td><td>180</td><td>3.07</td><td>3.730</td><td>17.60</td><td>0</td><td>0</td><td>3</td><td>3</td></tr>\n",
              "\t<tr><th scope=row>Merc 450SLC</th><td>15.2</td><td>8</td><td>275.8</td><td>180</td><td>3.07</td><td>3.780</td><td>18.00</td><td>0</td><td>0</td><td>3</td><td>3</td></tr>\n",
              "\t<tr><th scope=row>Cadillac Fleetwood</th><td>10.4</td><td>8</td><td>472.0</td><td>205</td><td>2.93</td><td>5.250</td><td>17.98</td><td>0</td><td>0</td><td>3</td><td>4</td></tr>\n",
              "\t<tr><th scope=row>Lincoln Continental</th><td>10.4</td><td>8</td><td>460.0</td><td>215</td><td>3.00</td><td>5.424</td><td>17.82</td><td>0</td><td>0</td><td>3</td><td>4</td></tr>\n",
              "\t<tr><th scope=row>Chrysler Imperial</th><td>14.7</td><td>8</td><td>440.0</td><td>230</td><td>3.23</td><td>5.345</td><td>17.42</td><td>0</td><td>0</td><td>3</td><td>4</td></tr>\n",
              "\t<tr><th scope=row>Dodge Challenger</th><td>15.5</td><td>8</td><td>318.0</td><td>150</td><td>2.76</td><td>3.520</td><td>16.87</td><td>0</td><td>0</td><td>3</td><td>2</td></tr>\n",
              "\t<tr><th scope=row>AMC Javelin</th><td>15.2</td><td>8</td><td>304.0</td><td>150</td><td>3.15</td><td>3.435</td><td>17.30</td><td>0</td><td>0</td><td>3</td><td>2</td></tr>\n",
              "\t<tr><th scope=row>Camaro Z28</th><td>13.3</td><td>8</td><td>350.0</td><td>245</td><td>3.73</td><td>3.840</td><td>15.41</td><td>0</td><td>0</td><td>3</td><td>4</td></tr>\n",
              "\t<tr><th scope=row>Ford Pantera L</th><td>15.8</td><td>8</td><td>351.0</td><td>264</td><td>4.22</td><td>3.170</td><td>14.50</td><td>0</td><td>1</td><td>5</td><td>4</td></tr>\n",
              "\t<tr><th scope=row>Maserati Bora</th><td>15.0</td><td>8</td><td>301.0</td><td>335</td><td>3.54</td><td>3.570</td><td>14.60</td><td>0</td><td>1</td><td>5</td><td>8</td></tr>\n",
              "</tbody>\n",
              "</table>\n"
            ],
            "text/markdown": "\nA data.frame: 13 × 11\n\n| <!--/--> | mpg &lt;dbl&gt; | cyl &lt;dbl&gt; | disp &lt;dbl&gt; | hp &lt;dbl&gt; | drat &lt;dbl&gt; | wt &lt;dbl&gt; | qsec &lt;dbl&gt; | vs &lt;dbl&gt; | am &lt;dbl&gt; | gear &lt;dbl&gt; | carb &lt;dbl&gt; |\n|---|---|---|---|---|---|---|---|---|---|---|---|\n| Duster 360 | 14.3 | 8 | 360.0 | 245 | 3.21 | 3.570 | 15.84 | 0 | 0 | 3 | 4 |\n| Merc 280C | 17.8 | 6 | 167.6 | 123 | 3.92 | 3.440 | 18.90 | 1 | 0 | 4 | 4 |\n| Merc 450SE | 16.4 | 8 | 275.8 | 180 | 3.07 | 4.070 | 17.40 | 0 | 0 | 3 | 3 |\n| Merc 450SL | 17.3 | 8 | 275.8 | 180 | 3.07 | 3.730 | 17.60 | 0 | 0 | 3 | 3 |\n| Merc 450SLC | 15.2 | 8 | 275.8 | 180 | 3.07 | 3.780 | 18.00 | 0 | 0 | 3 | 3 |\n| Cadillac Fleetwood | 10.4 | 8 | 472.0 | 205 | 2.93 | 5.250 | 17.98 | 0 | 0 | 3 | 4 |\n| Lincoln Continental | 10.4 | 8 | 460.0 | 215 | 3.00 | 5.424 | 17.82 | 0 | 0 | 3 | 4 |\n| Chrysler Imperial | 14.7 | 8 | 440.0 | 230 | 3.23 | 5.345 | 17.42 | 0 | 0 | 3 | 4 |\n| Dodge Challenger | 15.5 | 8 | 318.0 | 150 | 2.76 | 3.520 | 16.87 | 0 | 0 | 3 | 2 |\n| AMC Javelin | 15.2 | 8 | 304.0 | 150 | 3.15 | 3.435 | 17.30 | 0 | 0 | 3 | 2 |\n| Camaro Z28 | 13.3 | 8 | 350.0 | 245 | 3.73 | 3.840 | 15.41 | 0 | 0 | 3 | 4 |\n| Ford Pantera L | 15.8 | 8 | 351.0 | 264 | 4.22 | 3.170 | 14.50 | 0 | 1 | 5 | 4 |\n| Maserati Bora | 15.0 | 8 | 301.0 | 335 | 3.54 | 3.570 | 14.60 | 0 | 1 | 5 | 8 |\n\n",
            "text/latex": "A data.frame: 13 × 11\n\\begin{tabular}{r|lllllllllll}\n  & mpg & cyl & disp & hp & drat & wt & qsec & vs & am & gear & carb\\\\\n  & <dbl> & <dbl> & <dbl> & <dbl> & <dbl> & <dbl> & <dbl> & <dbl> & <dbl> & <dbl> & <dbl>\\\\\n\\hline\n\tDuster 360 & 14.3 & 8 & 360.0 & 245 & 3.21 & 3.570 & 15.84 & 0 & 0 & 3 & 4\\\\\n\tMerc 280C & 17.8 & 6 & 167.6 & 123 & 3.92 & 3.440 & 18.90 & 1 & 0 & 4 & 4\\\\\n\tMerc 450SE & 16.4 & 8 & 275.8 & 180 & 3.07 & 4.070 & 17.40 & 0 & 0 & 3 & 3\\\\\n\tMerc 450SL & 17.3 & 8 & 275.8 & 180 & 3.07 & 3.730 & 17.60 & 0 & 0 & 3 & 3\\\\\n\tMerc 450SLC & 15.2 & 8 & 275.8 & 180 & 3.07 & 3.780 & 18.00 & 0 & 0 & 3 & 3\\\\\n\tCadillac Fleetwood & 10.4 & 8 & 472.0 & 205 & 2.93 & 5.250 & 17.98 & 0 & 0 & 3 & 4\\\\\n\tLincoln Continental & 10.4 & 8 & 460.0 & 215 & 3.00 & 5.424 & 17.82 & 0 & 0 & 3 & 4\\\\\n\tChrysler Imperial & 14.7 & 8 & 440.0 & 230 & 3.23 & 5.345 & 17.42 & 0 & 0 & 3 & 4\\\\\n\tDodge Challenger & 15.5 & 8 & 318.0 & 150 & 2.76 & 3.520 & 16.87 & 0 & 0 & 3 & 2\\\\\n\tAMC Javelin & 15.2 & 8 & 304.0 & 150 & 3.15 & 3.435 & 17.30 & 0 & 0 & 3 & 2\\\\\n\tCamaro Z28 & 13.3 & 8 & 350.0 & 245 & 3.73 & 3.840 & 15.41 & 0 & 0 & 3 & 4\\\\\n\tFord Pantera L & 15.8 & 8 & 351.0 & 264 & 4.22 & 3.170 & 14.50 & 0 & 1 & 5 & 4\\\\\n\tMaserati Bora & 15.0 & 8 & 301.0 & 335 & 3.54 & 3.570 & 14.60 & 0 & 1 & 5 & 8\\\\\n\\end{tabular}\n",
            "text/plain": [
              "                    mpg  cyl disp  hp  drat wt    qsec  vs am gear carb\n",
              "Duster 360          14.3 8   360.0 245 3.21 3.570 15.84 0  0  3    4   \n",
              "Merc 280C           17.8 6   167.6 123 3.92 3.440 18.90 1  0  4    4   \n",
              "Merc 450SE          16.4 8   275.8 180 3.07 4.070 17.40 0  0  3    3   \n",
              "Merc 450SL          17.3 8   275.8 180 3.07 3.730 17.60 0  0  3    3   \n",
              "Merc 450SLC         15.2 8   275.8 180 3.07 3.780 18.00 0  0  3    3   \n",
              "Cadillac Fleetwood  10.4 8   472.0 205 2.93 5.250 17.98 0  0  3    4   \n",
              "Lincoln Continental 10.4 8   460.0 215 3.00 5.424 17.82 0  0  3    4   \n",
              "Chrysler Imperial   14.7 8   440.0 230 3.23 5.345 17.42 0  0  3    4   \n",
              "Dodge Challenger    15.5 8   318.0 150 2.76 3.520 16.87 0  0  3    2   \n",
              "AMC Javelin         15.2 8   304.0 150 3.15 3.435 17.30 0  0  3    2   \n",
              "Camaro Z28          13.3 8   350.0 245 3.73 3.840 15.41 0  0  3    4   \n",
              "Ford Pantera L      15.8 8   351.0 264 4.22 3.170 14.50 0  1  5    4   \n",
              "Maserati Bora       15.0 8   301.0 335 3.54 3.570 14.60 0  1  5    8   "
            ]
          },
          "metadata": {}
        }
      ]
    },
    {
      "cell_type": "markdown",
      "source": [
        "23. Autos que tengan 4 cilindros."
      ],
      "metadata": {
        "id": "yOWn9H6_EKym"
      }
    },
    {
      "cell_type": "code",
      "source": [
        "subset(mtcars, subset = cyl == 4)"
      ],
      "metadata": {
        "colab": {
          "base_uri": "https://localhost:8080/",
          "height": 443
        },
        "id": "eK8dXHpSERK2",
        "outputId": "f70a7c66-962a-4e51-b64d-600e1d31bad9"
      },
      "execution_count": null,
      "outputs": [
        {
          "output_type": "display_data",
          "data": {
            "text/html": [
              "<table class=\"dataframe\">\n",
              "<caption>A data.frame: 11 × 11</caption>\n",
              "<thead>\n",
              "\t<tr><th></th><th scope=col>mpg</th><th scope=col>cyl</th><th scope=col>disp</th><th scope=col>hp</th><th scope=col>drat</th><th scope=col>wt</th><th scope=col>qsec</th><th scope=col>vs</th><th scope=col>am</th><th scope=col>gear</th><th scope=col>carb</th></tr>\n",
              "\t<tr><th></th><th scope=col>&lt;dbl&gt;</th><th scope=col>&lt;dbl&gt;</th><th scope=col>&lt;dbl&gt;</th><th scope=col>&lt;dbl&gt;</th><th scope=col>&lt;dbl&gt;</th><th scope=col>&lt;dbl&gt;</th><th scope=col>&lt;dbl&gt;</th><th scope=col>&lt;dbl&gt;</th><th scope=col>&lt;dbl&gt;</th><th scope=col>&lt;dbl&gt;</th><th scope=col>&lt;dbl&gt;</th></tr>\n",
              "</thead>\n",
              "<tbody>\n",
              "\t<tr><th scope=row>Datsun 710</th><td>22.8</td><td>4</td><td>108.0</td><td> 93</td><td>3.85</td><td>2.320</td><td>18.61</td><td>1</td><td>1</td><td>4</td><td>1</td></tr>\n",
              "\t<tr><th scope=row>Merc 240D</th><td>24.4</td><td>4</td><td>146.7</td><td> 62</td><td>3.69</td><td>3.190</td><td>20.00</td><td>1</td><td>0</td><td>4</td><td>2</td></tr>\n",
              "\t<tr><th scope=row>Merc 230</th><td>22.8</td><td>4</td><td>140.8</td><td> 95</td><td>3.92</td><td>3.150</td><td>22.90</td><td>1</td><td>0</td><td>4</td><td>2</td></tr>\n",
              "\t<tr><th scope=row>Fiat 128</th><td>32.4</td><td>4</td><td> 78.7</td><td> 66</td><td>4.08</td><td>2.200</td><td>19.47</td><td>1</td><td>1</td><td>4</td><td>1</td></tr>\n",
              "\t<tr><th scope=row>Honda Civic</th><td>30.4</td><td>4</td><td> 75.7</td><td> 52</td><td>4.93</td><td>1.615</td><td>18.52</td><td>1</td><td>1</td><td>4</td><td>2</td></tr>\n",
              "\t<tr><th scope=row>Toyota Corolla</th><td>33.9</td><td>4</td><td> 71.1</td><td> 65</td><td>4.22</td><td>1.835</td><td>19.90</td><td>1</td><td>1</td><td>4</td><td>1</td></tr>\n",
              "\t<tr><th scope=row>Toyota Corona</th><td>21.5</td><td>4</td><td>120.1</td><td> 97</td><td>3.70</td><td>2.465</td><td>20.01</td><td>1</td><td>0</td><td>3</td><td>1</td></tr>\n",
              "\t<tr><th scope=row>Fiat X1-9</th><td>27.3</td><td>4</td><td> 79.0</td><td> 66</td><td>4.08</td><td>1.935</td><td>18.90</td><td>1</td><td>1</td><td>4</td><td>1</td></tr>\n",
              "\t<tr><th scope=row>Porsche 914-2</th><td>26.0</td><td>4</td><td>120.3</td><td> 91</td><td>4.43</td><td>2.140</td><td>16.70</td><td>0</td><td>1</td><td>5</td><td>2</td></tr>\n",
              "\t<tr><th scope=row>Lotus Europa</th><td>30.4</td><td>4</td><td> 95.1</td><td>113</td><td>3.77</td><td>1.513</td><td>16.90</td><td>1</td><td>1</td><td>5</td><td>2</td></tr>\n",
              "\t<tr><th scope=row>Volvo 142E</th><td>21.4</td><td>4</td><td>121.0</td><td>109</td><td>4.11</td><td>2.780</td><td>18.60</td><td>1</td><td>1</td><td>4</td><td>2</td></tr>\n",
              "</tbody>\n",
              "</table>\n"
            ],
            "text/markdown": "\nA data.frame: 11 × 11\n\n| <!--/--> | mpg &lt;dbl&gt; | cyl &lt;dbl&gt; | disp &lt;dbl&gt; | hp &lt;dbl&gt; | drat &lt;dbl&gt; | wt &lt;dbl&gt; | qsec &lt;dbl&gt; | vs &lt;dbl&gt; | am &lt;dbl&gt; | gear &lt;dbl&gt; | carb &lt;dbl&gt; |\n|---|---|---|---|---|---|---|---|---|---|---|---|\n| Datsun 710 | 22.8 | 4 | 108.0 |  93 | 3.85 | 2.320 | 18.61 | 1 | 1 | 4 | 1 |\n| Merc 240D | 24.4 | 4 | 146.7 |  62 | 3.69 | 3.190 | 20.00 | 1 | 0 | 4 | 2 |\n| Merc 230 | 22.8 | 4 | 140.8 |  95 | 3.92 | 3.150 | 22.90 | 1 | 0 | 4 | 2 |\n| Fiat 128 | 32.4 | 4 |  78.7 |  66 | 4.08 | 2.200 | 19.47 | 1 | 1 | 4 | 1 |\n| Honda Civic | 30.4 | 4 |  75.7 |  52 | 4.93 | 1.615 | 18.52 | 1 | 1 | 4 | 2 |\n| Toyota Corolla | 33.9 | 4 |  71.1 |  65 | 4.22 | 1.835 | 19.90 | 1 | 1 | 4 | 1 |\n| Toyota Corona | 21.5 | 4 | 120.1 |  97 | 3.70 | 2.465 | 20.01 | 1 | 0 | 3 | 1 |\n| Fiat X1-9 | 27.3 | 4 |  79.0 |  66 | 4.08 | 1.935 | 18.90 | 1 | 1 | 4 | 1 |\n| Porsche 914-2 | 26.0 | 4 | 120.3 |  91 | 4.43 | 2.140 | 16.70 | 0 | 1 | 5 | 2 |\n| Lotus Europa | 30.4 | 4 |  95.1 | 113 | 3.77 | 1.513 | 16.90 | 1 | 1 | 5 | 2 |\n| Volvo 142E | 21.4 | 4 | 121.0 | 109 | 4.11 | 2.780 | 18.60 | 1 | 1 | 4 | 2 |\n\n",
            "text/latex": "A data.frame: 11 × 11\n\\begin{tabular}{r|lllllllllll}\n  & mpg & cyl & disp & hp & drat & wt & qsec & vs & am & gear & carb\\\\\n  & <dbl> & <dbl> & <dbl> & <dbl> & <dbl> & <dbl> & <dbl> & <dbl> & <dbl> & <dbl> & <dbl>\\\\\n\\hline\n\tDatsun 710 & 22.8 & 4 & 108.0 &  93 & 3.85 & 2.320 & 18.61 & 1 & 1 & 4 & 1\\\\\n\tMerc 240D & 24.4 & 4 & 146.7 &  62 & 3.69 & 3.190 & 20.00 & 1 & 0 & 4 & 2\\\\\n\tMerc 230 & 22.8 & 4 & 140.8 &  95 & 3.92 & 3.150 & 22.90 & 1 & 0 & 4 & 2\\\\\n\tFiat 128 & 32.4 & 4 &  78.7 &  66 & 4.08 & 2.200 & 19.47 & 1 & 1 & 4 & 1\\\\\n\tHonda Civic & 30.4 & 4 &  75.7 &  52 & 4.93 & 1.615 & 18.52 & 1 & 1 & 4 & 2\\\\\n\tToyota Corolla & 33.9 & 4 &  71.1 &  65 & 4.22 & 1.835 & 19.90 & 1 & 1 & 4 & 1\\\\\n\tToyota Corona & 21.5 & 4 & 120.1 &  97 & 3.70 & 2.465 & 20.01 & 1 & 0 & 3 & 1\\\\\n\tFiat X1-9 & 27.3 & 4 &  79.0 &  66 & 4.08 & 1.935 & 18.90 & 1 & 1 & 4 & 1\\\\\n\tPorsche 914-2 & 26.0 & 4 & 120.3 &  91 & 4.43 & 2.140 & 16.70 & 0 & 1 & 5 & 2\\\\\n\tLotus Europa & 30.4 & 4 &  95.1 & 113 & 3.77 & 1.513 & 16.90 & 1 & 1 & 5 & 2\\\\\n\tVolvo 142E & 21.4 & 4 & 121.0 & 109 & 4.11 & 2.780 & 18.60 & 1 & 1 & 4 & 2\\\\\n\\end{tabular}\n",
            "text/plain": [
              "               mpg  cyl disp  hp  drat wt    qsec  vs am gear carb\n",
              "Datsun 710     22.8 4   108.0  93 3.85 2.320 18.61 1  1  4    1   \n",
              "Merc 240D      24.4 4   146.7  62 3.69 3.190 20.00 1  0  4    2   \n",
              "Merc 230       22.8 4   140.8  95 3.92 3.150 22.90 1  0  4    2   \n",
              "Fiat 128       32.4 4    78.7  66 4.08 2.200 19.47 1  1  4    1   \n",
              "Honda Civic    30.4 4    75.7  52 4.93 1.615 18.52 1  1  4    2   \n",
              "Toyota Corolla 33.9 4    71.1  65 4.22 1.835 19.90 1  1  4    1   \n",
              "Toyota Corona  21.5 4   120.1  97 3.70 2.465 20.01 1  0  3    1   \n",
              "Fiat X1-9      27.3 4    79.0  66 4.08 1.935 18.90 1  1  4    1   \n",
              "Porsche 914-2  26.0 4   120.3  91 4.43 2.140 16.70 0  1  5    2   \n",
              "Lotus Europa   30.4 4    95.1 113 3.77 1.513 16.90 1  1  5    2   \n",
              "Volvo 142E     21.4 4   121.0 109 4.11 2.780 18.60 1  1  4    2   "
            ]
          },
          "metadata": {}
        }
      ]
    },
    {
      "cell_type": "markdown",
      "source": [
        "24. Autos que pesen más de 2500 libras y tengan transmisión manual."
      ],
      "metadata": {
        "id": "RfNIb9bBEVdG"
      }
    },
    {
      "cell_type": "code",
      "source": [
        "subset(mtcars, subset = wt > 2.5 & am == 1)"
      ],
      "metadata": {
        "id": "H1_0B8NsEbB1",
        "outputId": "fb341c56-62ff-4c60-c769-755fb4da0da4",
        "colab": {
          "base_uri": "https://localhost:8080/",
          "height": 286
        }
      },
      "execution_count": null,
      "outputs": [
        {
          "output_type": "display_data",
          "data": {
            "text/html": [
              "<table class=\"dataframe\">\n",
              "<caption>A data.frame: 6 × 11</caption>\n",
              "<thead>\n",
              "\t<tr><th></th><th scope=col>mpg</th><th scope=col>cyl</th><th scope=col>disp</th><th scope=col>hp</th><th scope=col>drat</th><th scope=col>wt</th><th scope=col>qsec</th><th scope=col>vs</th><th scope=col>am</th><th scope=col>gear</th><th scope=col>carb</th></tr>\n",
              "\t<tr><th></th><th scope=col>&lt;dbl&gt;</th><th scope=col>&lt;dbl&gt;</th><th scope=col>&lt;dbl&gt;</th><th scope=col>&lt;dbl&gt;</th><th scope=col>&lt;dbl&gt;</th><th scope=col>&lt;dbl&gt;</th><th scope=col>&lt;dbl&gt;</th><th scope=col>&lt;dbl&gt;</th><th scope=col>&lt;dbl&gt;</th><th scope=col>&lt;dbl&gt;</th><th scope=col>&lt;dbl&gt;</th></tr>\n",
              "</thead>\n",
              "<tbody>\n",
              "\t<tr><th scope=row>Mazda RX4</th><td>21.0</td><td>6</td><td>160</td><td>110</td><td>3.90</td><td>2.620</td><td>16.46</td><td>0</td><td>1</td><td>4</td><td>4</td></tr>\n",
              "\t<tr><th scope=row>Mazda RX4 Wag</th><td>21.0</td><td>6</td><td>160</td><td>110</td><td>3.90</td><td>2.875</td><td>17.02</td><td>0</td><td>1</td><td>4</td><td>4</td></tr>\n",
              "\t<tr><th scope=row>Ford Pantera L</th><td>15.8</td><td>8</td><td>351</td><td>264</td><td>4.22</td><td>3.170</td><td>14.50</td><td>0</td><td>1</td><td>5</td><td>4</td></tr>\n",
              "\t<tr><th scope=row>Ferrari Dino</th><td>19.7</td><td>6</td><td>145</td><td>175</td><td>3.62</td><td>2.770</td><td>15.50</td><td>0</td><td>1</td><td>5</td><td>6</td></tr>\n",
              "\t<tr><th scope=row>Maserati Bora</th><td>15.0</td><td>8</td><td>301</td><td>335</td><td>3.54</td><td>3.570</td><td>14.60</td><td>0</td><td>1</td><td>5</td><td>8</td></tr>\n",
              "\t<tr><th scope=row>Volvo 142E</th><td>21.4</td><td>4</td><td>121</td><td>109</td><td>4.11</td><td>2.780</td><td>18.60</td><td>1</td><td>1</td><td>4</td><td>2</td></tr>\n",
              "</tbody>\n",
              "</table>\n"
            ],
            "text/markdown": "\nA data.frame: 6 × 11\n\n| <!--/--> | mpg &lt;dbl&gt; | cyl &lt;dbl&gt; | disp &lt;dbl&gt; | hp &lt;dbl&gt; | drat &lt;dbl&gt; | wt &lt;dbl&gt; | qsec &lt;dbl&gt; | vs &lt;dbl&gt; | am &lt;dbl&gt; | gear &lt;dbl&gt; | carb &lt;dbl&gt; |\n|---|---|---|---|---|---|---|---|---|---|---|---|\n| Mazda RX4 | 21.0 | 6 | 160 | 110 | 3.90 | 2.620 | 16.46 | 0 | 1 | 4 | 4 |\n| Mazda RX4 Wag | 21.0 | 6 | 160 | 110 | 3.90 | 2.875 | 17.02 | 0 | 1 | 4 | 4 |\n| Ford Pantera L | 15.8 | 8 | 351 | 264 | 4.22 | 3.170 | 14.50 | 0 | 1 | 5 | 4 |\n| Ferrari Dino | 19.7 | 6 | 145 | 175 | 3.62 | 2.770 | 15.50 | 0 | 1 | 5 | 6 |\n| Maserati Bora | 15.0 | 8 | 301 | 335 | 3.54 | 3.570 | 14.60 | 0 | 1 | 5 | 8 |\n| Volvo 142E | 21.4 | 4 | 121 | 109 | 4.11 | 2.780 | 18.60 | 1 | 1 | 4 | 2 |\n\n",
            "text/latex": "A data.frame: 6 × 11\n\\begin{tabular}{r|lllllllllll}\n  & mpg & cyl & disp & hp & drat & wt & qsec & vs & am & gear & carb\\\\\n  & <dbl> & <dbl> & <dbl> & <dbl> & <dbl> & <dbl> & <dbl> & <dbl> & <dbl> & <dbl> & <dbl>\\\\\n\\hline\n\tMazda RX4 & 21.0 & 6 & 160 & 110 & 3.90 & 2.620 & 16.46 & 0 & 1 & 4 & 4\\\\\n\tMazda RX4 Wag & 21.0 & 6 & 160 & 110 & 3.90 & 2.875 & 17.02 & 0 & 1 & 4 & 4\\\\\n\tFord Pantera L & 15.8 & 8 & 351 & 264 & 4.22 & 3.170 & 14.50 & 0 & 1 & 5 & 4\\\\\n\tFerrari Dino & 19.7 & 6 & 145 & 175 & 3.62 & 2.770 & 15.50 & 0 & 1 & 5 & 6\\\\\n\tMaserati Bora & 15.0 & 8 & 301 & 335 & 3.54 & 3.570 & 14.60 & 0 & 1 & 5 & 8\\\\\n\tVolvo 142E & 21.4 & 4 & 121 & 109 & 4.11 & 2.780 & 18.60 & 1 & 1 & 4 & 2\\\\\n\\end{tabular}\n",
            "text/plain": [
              "               mpg  cyl disp hp  drat wt    qsec  vs am gear carb\n",
              "Mazda RX4      21.0 6   160  110 3.90 2.620 16.46 0  1  4    4   \n",
              "Mazda RX4 Wag  21.0 6   160  110 3.90 2.875 17.02 0  1  4    4   \n",
              "Ford Pantera L 15.8 8   351  264 4.22 3.170 14.50 0  1  5    4   \n",
              "Ferrari Dino   19.7 6   145  175 3.62 2.770 15.50 0  1  5    6   \n",
              "Maserati Bora  15.0 8   301  335 3.54 3.570 14.60 0  1  5    8   \n",
              "Volvo 142E     21.4 4   121  109 4.11 2.780 18.60 1  1  4    2   "
            ]
          },
          "metadata": {}
        }
      ]
    },
    {
      "cell_type": "markdown",
      "source": [
        "#*Capítulo 7:\n"
      ],
      "metadata": {
        "id": "jqeT2yJCG_NW"
      }
    },
    {
      "cell_type": "markdown",
      "source": [
        "1. Construya una función que reciba dos números reales *a* y *b*, la función debe decir cuál es el mayor de ellos."
      ],
      "metadata": {
        "id": "NfbQbxjNE7mM"
      }
    },
    {
      "cell_type": "code",
      "execution_count": 94,
      "metadata": {
        "id": "id0ASrGKEj-7",
        "colab": {
          "base_uri": "https://localhost:8080/"
        },
        "outputId": "9d08273a-20c3-4484-bb7a-ffe394568b96"
      },
      "outputs": [
        {
          "output_type": "stream",
          "name": "stdout",
          "text": [
            "[1] \"El número mayor es el 15\"\n"
          ]
        }
      ],
      "source": [
        "NumMayor <- function(x, y) {\n",
        "  ifelse(x >= y, return (x), return (y))\n",
        "}\n",
        "\n",
        "print(paste0('El número mayor es el ',NumMayor(15, 10))) #Datos para prueba de la función"
      ]
    },
    {
      "cell_type": "markdown",
      "source": [
        "2. Escriba una función llamada *media* que calcule la media muestral de un vector numérico *x* ingresado a la función. A continuación la fórmula para calcular la media muestral.\n",
        "\n",
        "Nota: no puede usar la función mean( )"
      ],
      "metadata": {
        "id": "RNTvOAE9FfI-"
      }
    },
    {
      "cell_type": "code",
      "source": [
        "media <- function(x) {\n",
        "  len <- length(x)\n",
        "  x_1 <- 0\n",
        "  for (i in 1:len ){\n",
        "   x_1 <- x_1 + x[i]\n",
        "   }\n",
        "  result <- x_1/len\n",
        "   return (result)\n",
        "}\n",
        "\n",
        "vectorPrueba <- c(1,12,3,4,5)  #vector para verificar la función\n",
        "print(paste0('La media de los datos del vector es : ',media(vectorPrueba)))"
      ],
      "metadata": {
        "id": "MmY4mk8UFk6W",
        "colab": {
          "base_uri": "https://localhost:8080/"
        },
        "outputId": "5e90e8c5-3e97-485d-98dc-6363f0509eae"
      },
      "execution_count": 99,
      "outputs": [
        {
          "output_type": "stream",
          "name": "stdout",
          "text": [
            "[1] \"La media de los datos del vector es : 5\"\n"
          ]
        }
      ]
    },
    {
      "cell_type": "markdown",
      "source": [
        "3. Construya una función que encuentre las raíces de una ecuación de segundo grado. El usuario debe suministrar los coeficientes a, b y c de la ecuación  *ax^2 + bx + c* y la función debe entregar las raíces."
      ],
      "metadata": {
        "id": "s54GDeljF7jn"
      }
    },
    {
      "cell_type": "code",
      "source": [
        "Raices <- function(a,b,c){\n",
        "  if (b^2 - 4*a*c >= 0) {\n",
        "  x1 <- (-b + sqrt(b^2 - 4*a*c))/(2*a)\n",
        "  x2 <- (-b - sqrt(b^2 - 4*a*c))/(2*a)\n",
        "  }\n",
        "  else {\n",
        "  x1 <- (-b + sqrt(as.complex(b^2 - 4*a*c)))/(2*a)\n",
        "  x2 <- (-b - sqrt(as.complex(b^2 - 4*a*c)))/(2*a)\n",
        "  }\n",
        "    c(x1, x2)\n",
        "}\n",
        "Raices(1,-3,2) #datos de prueba para verificar la función"
      ],
      "metadata": {
        "id": "l4-F1rMnGAdD",
        "colab": {
          "base_uri": "https://localhost:8080/",
          "height": 34
        },
        "outputId": "b36fcf3f-6b1f-43cc-bb38-ae9c085b38fd"
      },
      "execution_count": 111,
      "outputs": [
        {
          "output_type": "display_data",
          "data": {
            "text/html": [
              "<style>\n",
              ".list-inline {list-style: none; margin:0; padding: 0}\n",
              ".list-inline>li {display: inline-block}\n",
              ".list-inline>li:not(:last-child)::after {content: \"\\00b7\"; padding: 0 .5ex}\n",
              "</style>\n",
              "<ol class=list-inline><li>2</li><li>1</li></ol>\n"
            ],
            "text/markdown": "1. 2\n2. 1\n\n\n",
            "text/latex": "\\begin{enumerate*}\n\\item 2\n\\item 1\n\\end{enumerate*}\n",
            "text/plain": [
              "[1] 2 1"
            ]
          },
          "metadata": {}
        }
      ]
    },
    {
      "cell_type": "markdown",
      "source": [
        "4. Escribir una función que calcule la velocidad de un proyectil dado que el usuario ingresa la distancia recorrida en Km y el tiempo necesario en minutos. Expresar el resultado se debe entregar en metros/segundo, recuerde que\n",
        "*velocidad = distancia / tiempo*"
      ],
      "metadata": {
        "id": "dt3X52qfGcEi"
      }
    },
    {
      "cell_type": "code",
      "source": [
        "velocidad <- function(d, t){\n",
        "  distancia <- d*1000\n",
        "  tiempo <- t*60\n",
        "  velocidadTemp <- distancia/tiempo\n",
        "  return(velocidadTemp)\n",
        "}\n",
        " cat(\"La velocidad es de\", velocidad(180, 120), \"m/s\\n\")\n"
      ],
      "metadata": {
        "id": "BimvYx1oGkjK",
        "colab": {
          "base_uri": "https://localhost:8080/"
        },
        "outputId": "fca63be3-6fc1-412c-ebba-d9b02bbcd832"
      },
      "execution_count": 114,
      "outputs": [
        {
          "output_type": "stream",
          "name": "stdout",
          "text": [
            "La velocidad es de 25 m/s\n"
          ]
        }
      ]
    },
    {
      "cell_type": "markdown",
      "source": [
        "5. Escribir una función que reciba dos valores  a y b y que los intercambie. Es decir, si ingresa  *a = 4* y *b = 9* que la función entregue *a = 9* y *b = 4*."
      ],
      "metadata": {
        "id": "Iz3LLTsbGuiL"
      }
    },
    {
      "cell_type": "code",
      "source": [
        "intercambiar <- function(a,b){\n",
        "  a_1 <- b\n",
        "  b_1 <- a\n",
        "  nuevo <- c(a_1, b_1)\n",
        "  return (nuevo)\n",
        "}\n",
        "\n",
        "intercambiar (5,7) #valores de prueba"
      ],
      "metadata": {
        "id": "IUALoSB8GzK-",
        "colab": {
          "base_uri": "https://localhost:8080/",
          "height": 34
        },
        "outputId": "e446b4da-4562-47dd-9f48-fe337b18d606"
      },
      "execution_count": 116,
      "outputs": [
        {
          "output_type": "display_data",
          "data": {
            "text/html": [
              "<style>\n",
              ".list-inline {list-style: none; margin:0; padding: 0}\n",
              ".list-inline>li {display: inline-block}\n",
              ".list-inline>li:not(:last-child)::after {content: \"\\00b7\"; padding: 0 .5ex}\n",
              "</style>\n",
              "<ol class=list-inline><li>7</li><li>5</li></ol>\n"
            ],
            "text/markdown": "1. 7\n2. 5\n\n\n",
            "text/latex": "\\begin{enumerate*}\n\\item 7\n\\item 5\n\\end{enumerate*}\n",
            "text/plain": [
              "[1] 7 5"
            ]
          },
          "metadata": {}
        }
      ]
    },
    {
      "cell_type": "markdown",
      "source": [
        "6. Construya una función a la cual le ingrese el salario por hora y el número de horas trabajadas durante una semana por un trabajador. La función debe calcular el salario neto."
      ],
      "metadata": {
        "id": "akaheYfhG-wY"
      }
    },
    {
      "cell_type": "code",
      "source": [
        "SalarioNeto <- function( salario , hrs){\n",
        "  sueldo <- hrs * salario\n",
        "  return(sueldo)\n",
        "}\n",
        "\n",
        "print(paste0(\"El salario es de $\",SalarioNeto(250, 6))) #Datos de ejemplo"
      ],
      "metadata": {
        "id": "cAX2_1fwHC2Y",
        "colab": {
          "base_uri": "https://localhost:8080/"
        },
        "outputId": "6a3cf9c3-df57-42cf-b9fb-f012e7f849fc"
      },
      "execution_count": 122,
      "outputs": [
        {
          "output_type": "stream",
          "name": "stdout",
          "text": [
            "[1] \"El salario es de $1500\"\n"
          ]
        }
      ]
    },
    {
      "cell_type": "markdown",
      "source": [
        "7. Construya una función llamada precio que calcule el precio total de sacar A fotocopias y B impresiones, sabiendo que los precios son 50 y 100 pesos para A y B respectivamente si el cliente es un estudiante, y de 75 y 150 para A y B si el cliente es un profesor. La función debe tener dos argumentos cuantitativos (A y B) y el argumento lógico estudiante que por defecto tenga el valor de TRUE. Use la estructura mostrada abajo."
      ],
      "metadata": {
        "id": "xEdXigEpHDSW"
      }
    },
    {
      "cell_type": "code",
      "source": [
        "precio <- function(A, B, estudiante=TRUE) {\n",
        "  if (estudiante == TRUE) {\n",
        "  precio.total <- 50*A + 100*B\n",
        "  }\n",
        "  else {\n",
        "  precio.total <- 75*A + 150*B\n",
        "  }\n",
        "  return(precio.total)\n",
        "}\n",
        "\n",
        "print(paste0(\"El precio total de las copias es de $\", precio(7,10, TRUE))) #DATOS DE EJEMPLO"
      ],
      "metadata": {
        "id": "r5SRDjc0HH98",
        "colab": {
          "base_uri": "https://localhost:8080/"
        },
        "outputId": "d38a0bc7-c7e6-4877-cc6b-c8a9b5c6077f"
      },
      "execution_count": 129,
      "outputs": [
        {
          "output_type": "stream",
          "name": "stdout",
          "text": [
            "[1] \"El precio total de las copias es de $1350\"\n"
          ]
        }
      ]
    },
    {
      "cell_type": "markdown",
      "source": [
        "8. Construya una función llamada salario que le ingrese el salario por hora y el número de horas trabajadas durante una semana por un trabajador. La función debe calcular el salario neto semanal, teniendo en cuenta que si el número de horas trabajadas durante la semana es mayor de 48, esas horas de demás se consideran horas extras y tienen un 35% de recargo. Imprima el salario neto. Use la estructura mostrada abajo."
      ],
      "metadata": {
        "id": "9G7u5EbMHTma"
      }
    },
    {
      "cell_type": "code",
      "source": [
        "salario <- function(num.horas, valor.hora) {\n",
        "  if(num.horas > 48){\n",
        "    salario.neto <- 48*valor.hora + (num.horas - 48)*(1.35*valor.hora)\n",
        "  }\n",
        "  else{\n",
        "    salario.neto <- num.horas*valor.hora\n",
        "  }\n",
        "  return(salario.neto)\n",
        "}\n",
        "\n",
        "print(paste0(\"El salario neto es de $\", salario(50,85))) #DATOS DE EJEMPLO"
      ],
      "metadata": {
        "id": "0CnWtC8eHlgW",
        "colab": {
          "base_uri": "https://localhost:8080/"
        },
        "outputId": "e685ec67-d231-4908-b835-07eb21122f26"
      },
      "execution_count": 131,
      "outputs": [
        {
          "output_type": "stream",
          "name": "stdout",
          "text": [
            "[1] \"El salario neto es de $4309.5\"\n"
          ]
        }
      ]
    },
    {
      "cell_type": "markdown",
      "source": [
        "9. Construya una función llamada nota que calcule la nota obtenida por un alumno en una evaluación de tres puntos cuya ponderación o importancia son 20%, 30% y 50% para los puntos I, II y III respectivamente. Adicionalmente la función debe generar un mensaje sobre si el estudiante aprobó la evaluación o no. El usuario debe ingresar las notas individuales de los tres puntos y la función debe entregar la nota final de la evaluación. Use la estructura mostrada abajo."
      ],
      "metadata": {
        "id": "9l4McnDJKGOO"
      }
    },
    {
      "cell_type": "code",
      "source": [
        "nota <- function(p1, p2, p3) {\n",
        "  pon1 <- (p1*20)/10\n",
        "  pon2 <- (p2*30)/10\n",
        "  pon3 <- (p3*50)/10\n",
        "  nota.fin<- pon1 + pon2 + pon3\n",
        "  if(nota.fin > 6){\n",
        "    print('Aprobado')\n",
        "  }\n",
        "  else{\n",
        "    print('No aprobado')\n",
        "  }\n",
        "  return(nota.fin)\n",
        "}\n",
        "nota(5,9,6)"
      ],
      "metadata": {
        "id": "Ff_f3TSoKKFg",
        "colab": {
          "base_uri": "https://localhost:8080/",
          "height": 52
        },
        "outputId": "1c0f07b5-9312-4e2b-f7d1-a87a0a85f4ff"
      },
      "execution_count": 135,
      "outputs": [
        {
          "output_type": "stream",
          "name": "stdout",
          "text": [
            "[1] \"Aprobado\"\n"
          ]
        },
        {
          "output_type": "display_data",
          "data": {
            "text/html": [
              "67"
            ],
            "text/markdown": "67",
            "text/latex": "67",
            "text/plain": [
              "[1] 67"
            ]
          },
          "metadata": {}
        }
      ]
    },
    {
      "cell_type": "markdown",
      "source": [
        "10. Escriba una función llamada minimo que permita obtener el valor mínimo de un vector numérico. No puede usar ninguna de las funciones básicas de R como *which.min()*, *which.max()*, *order()*, *min( )*, *max( )*, *sort( )* u *order( )*. Use la estructura mostrada abajo."
      ],
      "metadata": {
        "id": "C14mwMsyNa54"
      }
    },
    {
      "cell_type": "code",
      "source": [
        "\n",
        "minimo <- function(x) {\n",
        "  minimo <- x[1] # Asignamos el primer valor del vector como si fuera el minimo\n",
        "\n",
        "  # Recorremos el vector y actualizamos el valor de referencia si encontramos uno menor\n",
        "  for (i in 2:length(x)) {\n",
        "    if (x[i] < minimo) {\n",
        "      minimo <- x[i]\n",
        "    }\n",
        "  }\n",
        "  return(minimo)\n",
        "}\n",
        "\n",
        "x<- c(5,8,4,5,9)\n",
        "cat(\"El valor mínimo del vector es\",minimo(x))\n",
        "\n"
      ],
      "metadata": {
        "id": "nWpfg3BxNvXy",
        "colab": {
          "base_uri": "https://localhost:8080/"
        },
        "outputId": "95ff1c00-b434-43c2-d500-c0b41ed45e04"
      },
      "execution_count": 143,
      "outputs": [
        {
          "output_type": "stream",
          "name": "stdout",
          "text": [
            "El valor mínimo del vector es 4"
          ]
        }
      ]
    },
    {
      "cell_type": "markdown",
      "source": [
        "11. Construya una función que calcule las coordenadas del punto medio  *M* entre dos puntos  *A* y *B*. Vea la siguiente figura para una ilustración.\n",
        "![cap 7 ej 11.png](data:image/png;base64,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)"
      ],
      "metadata": {
        "id": "vcYIxPQuiMaq"
      }
    },
    {
      "cell_type": "code",
      "source": [
        "midpoint <- function(x_1, y_1, x_2, y_2){\n",
        "  x <- (x_1 + x_2)/2\n",
        "  y <- (y_1 + y_2)/2\n",
        "  coord<- c(x,y)\n",
        "  return(coord)\n",
        "}\n",
        "\n",
        "midpoint(3,7,4,7) #Datos de prueba para la función\n"
      ],
      "metadata": {
        "id": "-lnchEq9i388",
        "colab": {
          "base_uri": "https://localhost:8080/",
          "height": 34
        },
        "outputId": "a73e9114-34ee-456a-f897-b184311ef4b7"
      },
      "execution_count": 147,
      "outputs": [
        {
          "output_type": "display_data",
          "data": {
            "text/html": [
              "<style>\n",
              ".list-inline {list-style: none; margin:0; padding: 0}\n",
              ".list-inline>li {display: inline-block}\n",
              ".list-inline>li:not(:last-child)::after {content: \"\\00b7\"; padding: 0 .5ex}\n",
              "</style>\n",
              "<ol class=list-inline><li>3.5</li><li>7</li></ol>\n"
            ],
            "text/markdown": "1. 3.5\n2. 7\n\n\n",
            "text/latex": "\\begin{enumerate*}\n\\item 3.5\n\\item 7\n\\end{enumerate*}\n",
            "text/plain": [
              "[1] 3.5 7.0"
            ]
          },
          "metadata": {}
        }
      ]
    },
    {
      "cell_type": "markdown",
      "source": [
        "¿Cuáles cree usted que deben ser los parámetros de entrada de la función?\n",
        "\n",
        "La coordenadas de los puntos A y B"
      ],
      "metadata": {
        "id": "0ka7pNmJj7YG"
      }
    }
  ]
}